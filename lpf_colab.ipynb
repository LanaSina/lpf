{
  "nbformat": 4,
  "nbformat_minor": 0,
  "metadata": {
    "colab": {
      "provenance": [],
      "authorship_tag": "ABX9TyPLqDlUGlNZVn/5e1MSqOFs",
      "include_colab_link": true
    },
    "kernelspec": {
      "name": "python3",
      "display_name": "Python 3"
    },
    "language_info": {
      "name": "python"
    }
  },
  "cells": [
    {
      "cell_type": "markdown",
      "metadata": {
        "id": "view-in-github",
        "colab_type": "text"
      },
      "source": [
        "<a href=\"https://colab.research.google.com/github/LanaSina/lpf/blob/main/lpf_colab.ipynb\" target=\"_parent\"><img src=\"https://colab.research.google.com/assets/colab-badge.svg\" alt=\"Open In Colab\"/></a>"
      ]
    },
    {
      "cell_type": "markdown",
      "source": [
        "# Running LPF on colab\n",
        "\n",
        "Original code: https://github.com/cxinsys/lpf\n",
        "\n",
        "Paper: https://academic.oup.com/bioinformatics/article/39/7/btad430/7221539"
      ],
      "metadata": {
        "id": "eg0_fZt1ipaE"
      }
    },
    {
      "cell_type": "markdown",
      "source": [
        "## Setup\n",
        "\n",
        "Pull code"
      ],
      "metadata": {
        "id": "yGOX5qnejDsO"
      }
    },
    {
      "cell_type": "code",
      "execution_count": 1,
      "metadata": {
        "colab": {
          "base_uri": "https://localhost:8080/"
        },
        "id": "Q0UTEdKQh5Xf",
        "outputId": "225edb04-cf1f-48f4-d88c-0968af142d29"
      },
      "outputs": [
        {
          "output_type": "stream",
          "name": "stdout",
          "text": [
            "Cloning into 'lpf'...\n",
            "remote: Enumerating objects: 2171, done.\u001b[K\n",
            "remote: Counting objects: 100% (29/29), done.\u001b[K\n",
            "remote: Compressing objects: 100% (22/22), done.\u001b[K\n",
            "remote: Total 2171 (delta 14), reused 14 (delta 7), pack-reused 2142\u001b[K\n",
            "Receiving objects: 100% (2171/2171), 35.92 MiB | 45.41 MiB/s, done.\n",
            "Resolving deltas: 100% (1427/1427), done.\n"
          ]
        }
      ],
      "source": [
        "!git clone https://github.com/LanaSina/lpf.git"
      ]
    },
    {
      "cell_type": "markdown",
      "source": [
        "Install LPF"
      ],
      "metadata": {
        "id": "9Ych0NOjjRGH"
      }
    },
    {
      "cell_type": "code",
      "source": [
        "!pip install -r lpf/requirements.txt"
      ],
      "metadata": {
        "colab": {
          "base_uri": "https://localhost:8080/"
        },
        "id": "uNVd0yxEjSxp",
        "outputId": "3a386978-2d91-4c07-d859-ec511ae8a42d"
      },
      "execution_count": 2,
      "outputs": [
        {
          "output_type": "stream",
          "name": "stdout",
          "text": [
            "Requirement already satisfied: numpy in /usr/local/lib/python3.10/dist-packages (from -r lpf/requirements.txt (line 1)) (1.23.5)\n",
            "Requirement already satisfied: scipy in /usr/local/lib/python3.10/dist-packages (from -r lpf/requirements.txt (line 2)) (1.10.1)\n",
            "Requirement already satisfied: pillow in /usr/local/lib/python3.10/dist-packages (from -r lpf/requirements.txt (line 3)) (9.4.0)\n",
            "Requirement already satisfied: tqdm in /usr/local/lib/python3.10/dist-packages (from -r lpf/requirements.txt (line 4)) (4.66.1)\n",
            "Requirement already satisfied: pyyaml in /usr/local/lib/python3.10/dist-packages (from -r lpf/requirements.txt (line 5)) (6.0.1)\n",
            "Collecting xxhash (from -r lpf/requirements.txt (line 6))\n",
            "  Downloading xxhash-3.3.0-cp310-cp310-manylinux_2_17_x86_64.manylinux2014_x86_64.whl (194 kB)\n",
            "\u001b[2K     \u001b[90m━━━━━━━━━━━━━━━━━━━━━━━━━━━━━━━━━━━━━━━\u001b[0m \u001b[32m194.1/194.1 kB\u001b[0m \u001b[31m4.2 MB/s\u001b[0m eta \u001b[36m0:00:00\u001b[0m\n",
            "\u001b[?25hInstalling collected packages: xxhash\n",
            "Successfully installed xxhash-3.3.0\n"
          ]
        }
      ]
    },
    {
      "cell_type": "markdown",
      "source": [
        "Install PyGMO"
      ],
      "metadata": {
        "id": "x21qZjErjZ1W"
      }
    },
    {
      "cell_type": "code",
      "source": [
        "!pip install pygmo -c conda-forge"
      ],
      "metadata": {
        "colab": {
          "base_uri": "https://localhost:8080/"
        },
        "id": "NF58MAFAjhBl",
        "outputId": "18abdbc5-9c34-49cc-e385-1782a169416b"
      },
      "execution_count": 3,
      "outputs": [
        {
          "output_type": "stream",
          "name": "stdout",
          "text": [
            "\u001b[31mERROR: Could not open requirements file: [Errno 2] No such file or directory: 'conda-forge'\u001b[0m\u001b[31m\n",
            "\u001b[0m"
          ]
        }
      ]
    },
    {
      "cell_type": "markdown",
      "source": [
        "From: tutorials/tutorial02_visualize_single_morph.ipynb"
      ],
      "metadata": {
        "id": "rBKPFpGMkiQ_"
      }
    },
    {
      "cell_type": "code",
      "source": [],
      "metadata": {
        "id": "IUIbJ6HRkhdV"
      },
      "execution_count": null,
      "outputs": []
    },
    {
     "cell_type": "code",
     "execution_count": 1,
     "id": "24598302-24bb-4caf-b73a-7ad001bf28eb",
     "metadata": {},
     "outputs": [],
     "source": [
      "import os\n",
      "import os.path as osp\n",
      "from os.path import join as pjoin\n",
      "import time\n",
      "from datetime import datetime\n",
      "\n",
      "import numpy as np\n",
      "np.seterr(all='raise')\n",
      "\n",
      "from lpf.initializers import LiawInitializer\n",
      "from lpf.models import LiawModel\n",
      "from lpf.solvers import EulerSolver, RungeKuttaSolver"
     ]
    },
    {
     "cell_type": "code",
     "execution_count": 2,
     "id": "2ad635c9-f1da-4db6-82d2-430d8a979d85",
     "metadata": {},
     "outputs": [],
     "source": [
      "batch_size = 1  # A single set of parameters\n",
      "device = \"cpu\"  # Device option: CPU or GPU\n",
      "\n",
      "# Time parameters\n",
      "dt = 0.01\n",
      "n_iters = 1000000\n",
      "\n",
      "# Space parameters\n",
      "dx = 0.1\n",
      "width = 128\n",
      "height = 128\n",
      "shape = (height, width)"
     ]
    },
    {
     "cell_type": "code",
     "execution_count": 3,
     "id": "540ddb36-8eeb-4545-a296-cb15ab7bc096",
     "metadata": {},
     "outputs": [],
     "source": [
      "# Create the output directory.\n",
      "str_now = datetime.now().strftime('%Y%m%d-%H%M%S')\n",
      "dpath_output = pjoin(osp.abspath(\"./output\"), \"experiment_batch_%s\" % (str_now))\n",
      "os.makedirs(dpath_output, exist_ok=True)"
     ]
    },
    {
     "cell_type": "code",
     "execution_count": 4,
     "id": "dd3bba20-09d5-4b2c-82ff-1f11eaf0948f",
     "metadata": {},
     "outputs": [],
     "source": [
      "# Create a dict for parameters.\n",
      "param_dict =  {\n",
      " \"u0\": 1.9530066532565284, \n",
      " \"v0\": 2.3936837749803437, \n",
      " \"Du\": 0.000497858463742147,\n",
      " \"Dv\": 0.07796387325338522,\n",
      " \"ru\": 0.1829963268369453,\n",
      " \"rv\": 0.10001543043288767,\n",
      " \"k\": 0.15824185494975906,\n",
      " \"su\": 0.0004593283228100326,\n",
      " \"sv\": 0.021391505467616145,\n",
      " \"mu\": 0.09084717479481387\n",
      "}"
     ]
    },
    {
     "cell_type": "code",
     "execution_count": 5,
     "id": "e8490974-7289-4b68-9855-399f8196c508",
     "metadata": {},
     "outputs": [],
     "source": [
      "# In this example, we use 20 positions for initializing u with u0.\n",
      "param_dict[\"init_pts_0\"] = (20, 81)\n",
      "param_dict[\"init_pts_1\"] = (16, 27)\n",
      "param_dict[\"init_pts_2\"] = (85, 93)\n",
      "param_dict[\"init_pts_3\"] = (28, 39)\n",
      "param_dict[\"init_pts_4\"] = (119, 77)\n",
      "param_dict[\"init_pts_5\"] = (105, 39)\n",
      "param_dict[\"init_pts_6\"] = (68, 92)\n",
      "param_dict[\"init_pts_7\"] = (57, 46)\n",
      "param_dict[\"init_pts_8\"] = (53, 82)\n",
      "param_dict[\"init_pts_9\"] = (73, 78)\n",
      "param_dict[\"init_pts_10\"] = (25, 8)\n",
      "param_dict[\"init_pts_11\"] = (98, 23)\n",
      "param_dict[\"init_pts_12\"] = (74, 46)\n",
      "param_dict[\"init_pts_13\"] = (117, 45)\n",
      "param_dict[\"init_pts_14\"] = (58, 65)\n",
      "param_dict[\"init_pts_15\"] = (70, 75)\n",
      "param_dict[\"init_pts_16\"] = (71, 108)\n",
      "param_dict[\"init_pts_17\"] = (106, 36)\n",
      "param_dict[\"init_pts_18\"] = (125, 72)\n",
      "param_dict[\"init_pts_19\"] = (105, 84)"
     ]
    },
    {
     "cell_type": "code",
     "execution_count": 6,
     "id": "4fe30b4a-47a7-44bf-ba78-9cd26602b99f",
     "metadata": {},
     "outputs": [
      {
       "data": {
        "text/plain": [
         "{'u0': 1.9530066532565284,\n",
         " 'v0': 2.3936837749803437,\n",
         " 'Du': 0.000497858463742147,\n",
         " 'Dv': 0.07796387325338522,\n",
         " 'ru': 0.1829963268369453,\n",
         " 'rv': 0.10001543043288767,\n",
         " 'k': 0.15824185494975906,\n",
         " 'su': 0.0004593283228100326,\n",
         " 'sv': 0.021391505467616145,\n",
         " 'mu': 0.09084717479481387,\n",
         " 'init_pts_0': (20, 81),\n",
         " 'init_pts_1': (16, 27),\n",
         " 'init_pts_2': (85, 93),\n",
         " 'init_pts_3': (28, 39),\n",
         " 'init_pts_4': (119, 77),\n",
         " 'init_pts_5': (105, 39),\n",
         " 'init_pts_6': (68, 92),\n",
         " 'init_pts_7': (57, 46),\n",
         " 'init_pts_8': (53, 82),\n",
         " 'init_pts_9': (73, 78),\n",
         " 'init_pts_10': (25, 8),\n",
         " 'init_pts_11': (98, 23),\n",
         " 'init_pts_12': (74, 46),\n",
         " 'init_pts_13': (117, 45),\n",
         " 'init_pts_14': (58, 65),\n",
         " 'init_pts_15': (70, 75),\n",
         " 'init_pts_16': (71, 108),\n",
         " 'init_pts_17': (106, 36),\n",
         " 'init_pts_18': (125, 72),\n",
         " 'init_pts_19': (105, 84)}"
        ]
       },
       "execution_count": 6,
       "metadata": {},
       "output_type": "execute_result"
      }
     ],
     "source": [
      "param_dict"
     ]
    },
    {
     "cell_type": "code",
     "execution_count": 7,
     "id": "28b297a1-a4d5-4837-92df-787f7c24e0cd",
     "metadata": {},
     "outputs": [],
     "source": [
      "model_dicts = []\n",
      "model_dicts.append(param_dict)"
     ]
    },
    {
     "cell_type": "code",
     "execution_count": 8,
     "id": "b099db95-f779-4f2e-962b-fa28fdf0fb21",
     "metadata": {},
     "outputs": [],
     "source": [
      "# Create the Liaw initializer.\n",
      "initializer = LiawInitializer()\n",
      "initializer.update(model_dicts)\n",
      "params = LiawModel.parse_params(model_dicts)"
     ]
    },
    {
     "cell_type": "code",
     "execution_count": 9,
     "id": "0248cf99-f281-409e-bf5f-7e1b63a10a64",
     "metadata": {},
     "outputs": [],
     "source": [
      "# Create the Liaw model.\n",
      "model = LiawModel(\n",
      "    initializer=initializer,\n",
      "    params=params,\n",
      "    dx=dx,\n",
      "    width=width,\n",
      "    height=height,\n",
      "    device=device\n",
      ")"
     ]
    },
    {
     "cell_type": "code",
     "execution_count": 10,
     "id": "1a82d0ad-db43-45dd-a8a8-b7b5314c0d14",
     "metadata": {
      "tags": []
     },
     "outputs": [
      {
       "name": "stdout",
       "output_type": "stream",
       "text": [
        "Elapsed time: 210.184937 sec.\n"
       ]
      }
     ],
     "source": [
      "# Create the Euler solver.\n",
      "solver = EulerSolver()\n",
      "\n",
      "t_beg = time.time()\n",
      "\n",
      "solver.solve(\n",
      "    model=model,\n",
      "    dt=dt,\n",
      "    n_iters=n_iters,\n",
      "    dpath_model=dpath_output,\n",
      "    dpath_ladybird=dpath_output,\n",
      "    dpath_pattern=dpath_output,\n",
      "    verbose=0\n",
      ")\n",
      "\n",
      "t_end = time.time()\n",
      "\n",
      "print(\"Elapsed time: %f sec.\" % (t_end - t_beg))"
     ]
    },
    {
     "cell_type": "code",
     "execution_count": 11,
     "id": "cc0b63dc-1b1f-4ca1-bfca-624744e31035",
     "metadata": {},
     "outputs": [],
     "source": [
      "arr_color = model.colorize(thr_color=0.5)\n",
      "img_ladybird, img_pattern = model.create_image(0, arr_color)"
     ]
    },
    {
     "cell_type": "code",
     "execution_count": 12,
     "id": "9807903d-25e1-415f-a916-ccc003b567ff",
     "metadata": {},
     "outputs": [
      {
       "data": {
        "image/png": "[encoded data removed]",
        "text/plain": [
         "<PIL.Image.Image image mode=RGBA size=104x126>"
        ]
       },
       "execution_count": 12,
       "metadata": {},
       "output_type": "execute_result"
      }
     ],
     "source": [
      "img_ladybird"
     ]
    },
    {
     "cell_type": "code",
     "execution_count": 13,
     "id": "c3f7ed38-3c17-4ea2-a2d2-59b586307164",
     "metadata": {},
     "outputs": [
      {
       "data": {
        "image/png": "[encoded data removed]",
        "text/plain": [
         "<PIL.Image.Image image mode=RGB size=128x128>"
        ]
       },
       "execution_count": 13,
       "metadata": {},
       "output_type": "execute_result"
      }
     ],
     "source": [
      "img_pattern"
     ]
    },
    {
     "cell_type": "code",
     "execution_count": 14,
     "id": "8e308e02-8c80-4425-b662-2543070058bf",
     "metadata": {},
     "outputs": [],
     "source": [
      "model.save_image(index=0,\n",
      "                 fpath_ladybird=pjoin(dpath_output, \"ladybird.png\"),\n",
      "                 fpath_pattern=pjoin(dpath_output, \"pattern.png\"),\n",
      "                 arr_color=arr_color)"
     ]
    },
    {
     "cell_type": "code",
     "execution_count": 15,
     "id": "c4184369-090f-4439-af3c-722dd4dc6744",
     "metadata": {},
     "outputs": [
      {
       "name": "stdout",
       "output_type": "stream",
       "text": [
        "ladybird.png\n",
        "model_1\n",
        "models\n",
        "pattern.png\n"
       ]
      },
      {
       "name": "stderr",
       "output_type": "stream",
       "text": [
        "sys:1: ResourceWarning: unclosed socket <zmq.Socket(zmq.PUSH) at 0x280f726afa0>\n",
        "ResourceWarning: Enable tracemalloc to get the object allocation traceback\n",
        "C:\\Anaconda3\\envs\\lpf\\lib\\site-packages\\IPython\\utils\\_process_win32.py:145: ResourceWarning: unclosed file <_io.BufferedWriter name=4>\n",
        "  return process_handler(cmd, _system_body)\n",
        "ResourceWarning: Enable tracemalloc to get the object allocation traceback\n",
        "C:\\Anaconda3\\envs\\lpf\\lib\\site-packages\\IPython\\utils\\_process_win32.py:145: ResourceWarning: unclosed file <_io.BufferedReader name=5>\n",
        "  return process_handler(cmd, _system_body)\n",
        "ResourceWarning: Enable tracemalloc to get the object allocation traceback\n",
        "C:\\Anaconda3\\envs\\lpf\\lib\\site-packages\\IPython\\utils\\_process_win32.py:145: ResourceWarning: unclosed file <_io.BufferedReader name=6>\n",
        "  return process_handler(cmd, _system_body)\n",
        "ResourceWarning: Enable tracemalloc to get the object allocation traceback\n"
       ]
      }
     ],
     "source": [
      "!ls {dpath_output}"
     ]
    }

  ]
}
