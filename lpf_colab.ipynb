{
  "nbformat": 4,
  "nbformat_minor": 0,
  "metadata": {
    "colab": {
      "provenance": [],
      "include_colab_link": true
    },
    "kernelspec": {
      "name": "python3",
      "display_name": "Python 3"
    },
    "language_info": {
      "name": "python"
    }
  },
  "cells": [
    {
      "cell_type": "markdown",
      "metadata": {
        "id": "view-in-github",
        "colab_type": "text"
      },
      "source": [
        "<a href=\"https://colab.research.google.com/github/LanaSina/lpf_upper/blob/main/lpf_colab.ipynb\" target=\"_parent\"><img src=\"https://colab.research.google.com/assets/colab-badge.svg\" alt=\"Open In Colab\"/></a>"
      ]
    },
    {
      "cell_type": "markdown",
      "source": [
        "# Running LPF on colab\n",
        "\n",
        "Original code: https://github.com/cxinsys/lpf\n",
        "\n",
        "Paper: https://academic.oup.com/bioinformatics/article/39/7/btad430/7221539\n",
        "\n",
        "Just run all cells and get a ladybug."
      ],
      "metadata": {
        "id": "eg0_fZt1ipaE"
      }
    },
    {
      "cell_type": "markdown",
      "source": [
        "## Setup\n",
        "\n",
        "Pull code"
      ],
      "metadata": {
        "id": "yGOX5qnejDsO"
      }
    },
    {
      "cell_type": "code",
      "execution_count": 1,
      "metadata": {
        "colab": {
          "base_uri": "https://localhost:8080/"
        },
        "id": "Q0UTEdKQh5Xf",
        "outputId": "30e80282-fe46-4f25-e7b7-59d8b2e72f11"
      },
      "outputs": [
        {
          "output_type": "stream",
          "name": "stdout",
          "text": [
            "Cloning into 'lpf'...\n",
            "remote: Enumerating objects: 2178, done.\u001b[K\n",
            "remote: Counting objects: 100% (36/36), done.\u001b[K\n",
            "remote: Compressing objects: 100% (31/31), done.\u001b[K\n",
            "remote: Total 2178 (delta 17), reused 13 (delta 5), pack-reused 2142\u001b[K\n",
            "Receiving objects: 100% (2178/2178), 35.93 MiB | 27.67 MiB/s, done.\n",
            "Resolving deltas: 100% (1430/1430), done.\n"
          ]
        }
      ],
      "source": [
        "!git clone https://github.com/LanaSina/lpf_upper.git"
      ]
    },
    {
      "cell_type": "markdown",
      "source": [
        "Install LPF"
      ],
      "metadata": {
        "id": "9Ych0NOjjRGH"
      }
    },
    {
      "cell_type": "code",
      "source": [
        "!python \"lpf/setup.py\" install"
      ],
      "metadata": {
        "colab": {
          "base_uri": "https://localhost:8080/"
        },
        "id": "aMn1MwnApMg7",
        "outputId": "3966fdc0-c00f-4c3b-f1b2-07d22271cb10"
      },
      "execution_count": 20,
      "outputs": [
        {
          "output_type": "stream",
          "name": "stdout",
          "text": [
            "running install\n",
            "/usr/local/lib/python3.10/dist-packages/setuptools/_distutils/cmd.py:66: SetuptoolsDeprecationWarning: setup.py install is deprecated.\n",
            "!!\n",
            "\n",
            "        ********************************************************************************\n",
            "        Please avoid running ``setup.py`` directly.\n",
            "        Instead, use pypa/build, pypa/installer, pypa/build or\n",
            "        other standards-based tools.\n",
            "\n",
            "        See https://blog.ganssle.io/articles/2021/10/setup-py-deprecated.html for details.\n",
            "        ********************************************************************************\n",
            "\n",
            "!!\n",
            "  self.initialize_options()\n",
            "/usr/local/lib/python3.10/dist-packages/setuptools/_distutils/cmd.py:66: EasyInstallDeprecationWarning: easy_install command is deprecated.\n",
            "!!\n",
            "\n",
            "        ********************************************************************************\n",
            "        Please avoid running ``setup.py`` and ``easy_install``.\n",
            "        Instead, use pypa/build, pypa/installer, pypa/build or\n",
            "        other standards-based tools.\n",
            "\n",
            "        See https://github.com/pypa/setuptools/issues/917 for details.\n",
            "        ********************************************************************************\n",
            "\n",
            "!!\n",
            "  self.initialize_options()\n",
            "running bdist_egg\n",
            "running egg_info\n",
            "creating lpf.egg-info\n",
            "writing lpf.egg-info/PKG-INFO\n",
            "writing dependency_links to lpf.egg-info/dependency_links.txt\n",
            "writing top-level names to lpf.egg-info/top_level.txt\n",
            "writing manifest file 'lpf.egg-info/SOURCES.txt'\n",
            "reading manifest file 'lpf.egg-info/SOURCES.txt'\n",
            "writing manifest file 'lpf.egg-info/SOURCES.txt'\n",
            "installing library code to build/bdist.linux-x86_64/egg\n",
            "running install_lib\n",
            "warning: install_lib: 'build/lib' does not exist -- no Python modules to install\n",
            "\n",
            "creating build\n",
            "creating build/bdist.linux-x86_64\n",
            "creating build/bdist.linux-x86_64/egg\n",
            "creating build/bdist.linux-x86_64/egg/EGG-INFO\n",
            "copying lpf.egg-info/PKG-INFO -> build/bdist.linux-x86_64/egg/EGG-INFO\n",
            "copying lpf.egg-info/SOURCES.txt -> build/bdist.linux-x86_64/egg/EGG-INFO\n",
            "copying lpf.egg-info/dependency_links.txt -> build/bdist.linux-x86_64/egg/EGG-INFO\n",
            "copying lpf.egg-info/top_level.txt -> build/bdist.linux-x86_64/egg/EGG-INFO\n",
            "zip_safe flag not set; analyzing archive contents...\n",
            "creating dist\n",
            "creating 'dist/lpf-0.0.1-py3.10.egg' and adding 'build/bdist.linux-x86_64/egg' to it\n",
            "removing 'build/bdist.linux-x86_64/egg' (and everything under it)\n",
            "Processing lpf-0.0.1-py3.10.egg\n",
            "Copying lpf-0.0.1-py3.10.egg to /usr/local/lib/python3.10/dist-packages\n",
            "Adding lpf 0.0.1 to easy-install.pth file\n",
            "\n",
            "Installed /usr/local/lib/python3.10/dist-packages/lpf-0.0.1-py3.10.egg\n",
            "Processing dependencies for lpf==0.0.1\n",
            "Finished processing dependencies for lpf==0.0.1\n"
          ]
        }
      ]
    },
    {
      "cell_type": "code",
      "source": [
        "%pwd\n",
        "%ls\n",
        "#% cd lpf\n",
        "!pip install -r requirements.txt"
      ],
      "metadata": {
        "colab": {
          "base_uri": "https://localhost:8080/"
        },
        "id": "uNVd0yxEjSxp",
        "outputId": "fef7e2df-7cdf-40c5-9c1b-44539c4d1b1e"
      },
      "execution_count": 29,
      "outputs": [
        {
          "output_type": "stream",
          "name": "stdout",
          "text": [
            "\u001b[0m\u001b[01;34massets\u001b[0m/        \u001b[01;34mexperiments\u001b[0m/  lpf_colab.ipynb  requirements.txt  \u001b[01;34mtutorials\u001b[0m/\n",
            "\u001b[01;34maugmentation\u001b[0m/  LICENSE       \u001b[01;34mpopulation\u001b[0m/      \u001b[01;34msearch\u001b[0m/\n",
            "\u001b[01;34mconfig\u001b[0m/        \u001b[01;34mlpf\u001b[0m/          README.md        setup.py\n",
            "Requirement already satisfied: numpy in /usr/local/lib/python3.10/dist-packages (from -r requirements.txt (line 1)) (1.23.5)\n",
            "Requirement already satisfied: scipy in /usr/local/lib/python3.10/dist-packages (from -r requirements.txt (line 2)) (1.10.1)\n",
            "Requirement already satisfied: pillow in /usr/local/lib/python3.10/dist-packages (from -r requirements.txt (line 3)) (9.4.0)\n",
            "Requirement already satisfied: tqdm in /usr/local/lib/python3.10/dist-packages (from -r requirements.txt (line 4)) (4.66.1)\n",
            "Requirement already satisfied: pyyaml in /usr/local/lib/python3.10/dist-packages (from -r requirements.txt (line 5)) (6.0.1)\n",
            "Requirement already satisfied: xxhash in /usr/local/lib/python3.10/dist-packages (from -r requirements.txt (line 6)) (3.3.0)\n"
          ]
        }
      ]
    },
    {
      "cell_type": "markdown",
      "source": [
        "Install PyGMO"
      ],
      "metadata": {
        "id": "x21qZjErjZ1W"
      }
    },
    {
      "cell_type": "code",
      "source": [
        "# TODO !pip install pygmo -c conda-forge"
      ],
      "metadata": {
        "colab": {
          "base_uri": "https://localhost:8080/"
        },
        "id": "NF58MAFAjhBl",
        "outputId": "18abdbc5-9c34-49cc-e385-1782a169416b"
      },
      "execution_count": null,
      "outputs": [
        {
          "output_type": "stream",
          "name": "stdout",
          "text": [
            "\u001b[31mERROR: Could not open requirements file: [Errno 2] No such file or directory: 'conda-forge'\u001b[0m\u001b[31m\n",
            "\u001b[0m"
          ]
        }
      ]
    },
    {
      "cell_type": "markdown",
      "source": [
        "## Solve something\n",
        "\n",
        "From: Tutorial 1"
      ],
      "metadata": {
      }
    },
    {
      "cell_type": "markdown",
      "source": [
        "## Make a ladybug from parameters\n",
        "\n",
        "From: tutorials/tutorial02_visualize_single_morph.ipynb"
      ],
      "metadata": {
        "id": "rBKPFpGMkiQ_"
      }
    },
    {
      "cell_type": "code",
      "source": [
        "# import sys\n",
        "# sys.path.append('/content/lpf_upper') #/lpf"
      ],
      "metadata": {
        "id": "UdJSes5YosyY"
      },
      "execution_count": 5,
      "outputs": []
    },
    {
      "cell_type": "code",
      "source": [],
      "metadata": {
        "id": "y856z5ADOYbd"
      },
      "execution_count": null,
      "outputs": []
    },
    {
      "cell_type": "code",
      "source": [
        "# !pip show lpf\n",
        "\n",
        "import sys\n",
        "import pprint\n",
        "\n",
        "pprint.pprint(sys.path)"
      ],
      "metadata": {
        "colab": {
          "base_uri": "https://localhost:8080/"
        },
        "id": "ATHC9InD6YOR",
        "outputId": "e6ec0e8b-eb45-456d-8d41-f2522f674048"
      },
      "execution_count": 7,
      "outputs": [
        {
          "output_type": "stream",
          "name": "stdout",
          "text": [
            "['/content',\n",
            " '/env/python',\n",
            " '/usr/lib/python310.zip',\n",
            " '/usr/lib/python3.10',\n",
            " '/usr/lib/python3.10/lib-dynload',\n",
            " '',\n",
            " '/usr/local/lib/python3.10/dist-packages',\n",
            " '/usr/local/lib/python3.10/dist-packages/lpf-0.0.1-py3.10.egg',\n",
            " '/usr/lib/python3/dist-packages',\n",
            " '/usr/local/lib/python3.10/dist-packages/IPython/extensions',\n",
            " '/root/.ipython',\n",
            " '/content/lpf']\n"
          ]
        }
      ]
    },
    {
      "cell_type": "code",
      "source": [
        "# %cd \"/content/lpf\"\n",
        "# might not be necessary\n",
        "import os\n",
        "os.chdir('/content/lpf_upper')\n",
        "\n",
        "%pwd\n",
        "%ls \"lpf/initializers\"\n",
        "\n",
        "# from lpf import initializers\n",
        "from lpf.initializers import LiawInitializer\n"
      ],
      "metadata": {
        "colab": {
          "base_uri": "https://localhost:8080/"
        },
        "id": "8AEbbQe56BEF",
        "outputId": "211e1108-000f-421e-a172-9f8236b5144e"
      },
      "execution_count": 2,
      "outputs": [
        {
          "output_type": "stream",
          "name": "stdout",
          "text": [
            "initializerfactory.py  \u001b[0m\u001b[01;34m__pycache__\u001b[0m/\n",
            "initializer.py         twocomponentconstantinitializer.py\n",
            "__init__.py            twocomponentinitializer.py\n",
            "liawinitializer.py\n"
          ]
        }
      ]
    },
    {
      "cell_type": "code",
      "execution_count": 3,
      "metadata": {
        "id": "24598302-24bb-4caf-b73a-7ad001bf28eb"
      },
      "outputs": [],
      "source": [
        "import os\n",
        "import os.path as osp\n",
        "from os.path import join as pjoin\n",
        "import time\n",
        "from datetime import datetime\n",
        "\n",
        "import numpy as np\n",
        "np.seterr(all='raise')\n",
        "\n",
        "from lpf.initializers import LiawInitializer\n",
        "from lpf.models import LiawModel\n",
        "from lpf.solvers import EulerSolver, RungeKuttaSolver"
      ]
    },
    {
      "cell_type": "code",
      "execution_count": 34,
      "metadata": {
        "id": "2ad635c9-f1da-4db6-82d2-430d8a979d85"
      },
      "outputs": [],
      "source": [
        "batch_size = 1  # A single set of parameters\n",
        "# TODO debug gpu option\n",
        "device = \"cpu\"  # Device option: CPU or GPU\n",
        "\n",
        "# Time parameters\n",
        "dt = 0.01\n",
        "n_iters = 10000 # 1000000\n",
        "\n",
        "# Space parameters\n",
        "dx = 0.1\n",
        "width = 128\n",
        "height = 128\n",
        "shape = (height, width)"
      ]
    },
    {
      "cell_type": "code",
      "execution_count": 15,
      "metadata": {
        "id": "540ddb36-8eeb-4545-a296-cb15ab7bc096"
      },
      "outputs": [],
      "source": [
        "# Create the output directory.\n",
        "str_now = datetime.now().strftime('%Y%m%d-%H%M%S')\n",
        "dpath_output = pjoin(osp.abspath(\"./output\"), \"experiment_batch_%s\" % (str_now))\n",
        "os.makedirs(dpath_output, exist_ok=True)"
      ]
    },
    {
      "cell_type": "code",
      "execution_count": 16,
      "metadata": {
        "id": "dd3bba20-09d5-4b2c-82ff-1f11eaf0948f"
      },
      "outputs": [],
      "source": [
        "# Create a dict for parameters.\n",
        "param_dict =  {\n",
        " \"u0\": 1.9530066532565284,\n",
        " \"v0\": 2.3936837749803437,\n",
        " \"Du\": 0.000497858463742147,\n",
        " \"Dv\": 0.07796387325338522,\n",
        " \"ru\": 0.1829963268369453,\n",
        " \"rv\": 0.10001543043288767,\n",
        " \"k\": 0.15824185494975906,\n",
        " \"su\": 0.0004593283228100326,\n",
        " \"sv\": 0.021391505467616145,\n",
        " \"mu\": 0.09084717479481387\n",
        "}"
      ]
    },
    {
      "cell_type": "code",
      "execution_count": 17,
      "metadata": {
        "id": "e8490974-7289-4b68-9855-399f8196c508"
      },
      "outputs": [],
      "source": [
        "# In this example, we use 20 positions for initializing u with u0.\n",
        "param_dict[\"init_pts_0\"] = (20, 81)\n",
        "param_dict[\"init_pts_1\"] = (16, 27)\n",
        "param_dict[\"init_pts_2\"] = (85, 93)\n",
        "param_dict[\"init_pts_3\"] = (28, 39)\n",
        "param_dict[\"init_pts_4\"] = (119, 77)\n",
        "param_dict[\"init_pts_5\"] = (105, 39)\n",
        "param_dict[\"init_pts_6\"] = (68, 92)\n",
        "param_dict[\"init_pts_7\"] = (57, 46)\n",
        "param_dict[\"init_pts_8\"] = (53, 82)\n",
        "param_dict[\"init_pts_9\"] = (73, 78)\n",
        "param_dict[\"init_pts_10\"] = (25, 8)\n",
        "param_dict[\"init_pts_11\"] = (98, 23)\n",
        "param_dict[\"init_pts_12\"] = (74, 46)\n",
        "param_dict[\"init_pts_13\"] = (117, 45)\n",
        "param_dict[\"init_pts_14\"] = (58, 65)\n",
        "param_dict[\"init_pts_15\"] = (70, 75)\n",
        "param_dict[\"init_pts_16\"] = (71, 108)\n",
        "param_dict[\"init_pts_17\"] = (106, 36)\n",
        "param_dict[\"init_pts_18\"] = (125, 72)\n",
        "param_dict[\"init_pts_19\"] = (105, 84)"
      ]
    },
    {
      "cell_type": "code",
      "execution_count": 18,
      "metadata": {
        "colab": {
          "base_uri": "https://localhost:8080/"
        },
        "id": "4fe30b4a-47a7-44bf-ba78-9cd26602b99f",
        "outputId": "c80c4794-c822-4dd3-b645-4f9b29afd045"
      },
      "outputs": [
        {
          "output_type": "execute_result",
          "data": {
            "text/plain": [
              "{'u0': 1.9530066532565284,\n",
              " 'v0': 2.3936837749803437,\n",
              " 'Du': 0.000497858463742147,\n",
              " 'Dv': 0.07796387325338522,\n",
              " 'ru': 0.1829963268369453,\n",
              " 'rv': 0.10001543043288767,\n",
              " 'k': 0.15824185494975906,\n",
              " 'su': 0.0004593283228100326,\n",
              " 'sv': 0.021391505467616145,\n",
              " 'mu': 0.09084717479481387,\n",
              " 'init_pts_0': (20, 81),\n",
              " 'init_pts_1': (16, 27),\n",
              " 'init_pts_2': (85, 93),\n",
              " 'init_pts_3': (28, 39),\n",
              " 'init_pts_4': (119, 77),\n",
              " 'init_pts_5': (105, 39),\n",
              " 'init_pts_6': (68, 92),\n",
              " 'init_pts_7': (57, 46),\n",
              " 'init_pts_8': (53, 82),\n",
              " 'init_pts_9': (73, 78),\n",
              " 'init_pts_10': (25, 8),\n",
              " 'init_pts_11': (98, 23),\n",
              " 'init_pts_12': (74, 46),\n",
              " 'init_pts_13': (117, 45),\n",
              " 'init_pts_14': (58, 65),\n",
              " 'init_pts_15': (70, 75),\n",
              " 'init_pts_16': (71, 108),\n",
              " 'init_pts_17': (106, 36),\n",
              " 'init_pts_18': (125, 72),\n",
              " 'init_pts_19': (105, 84)}"
            ]
          },
          "metadata": {},
          "execution_count": 18
        }
      ],
      "source": [
        "param_dict"
      ]
    },
    {
      "cell_type": "code",
      "execution_count": 19,
      "metadata": {
        "id": "28b297a1-a4d5-4837-92df-787f7c24e0cd"
      },
      "outputs": [],
      "source": [
        "model_dicts = []\n",
        "model_dicts.append(param_dict)"
      ]
    },
    {
      "cell_type": "code",
      "execution_count": 20,
      "metadata": {
        "id": "b099db95-f779-4f2e-962b-fa28fdf0fb21"
      },
      "outputs": [],
      "source": [
        "# Create the Liaw initializer.\n",
        "initializer = LiawInitializer()\n",
        "initializer.update(model_dicts)\n",
        "params = LiawModel.parse_params(model_dicts)"
      ]
    },
    {
      "cell_type": "code",
      "execution_count": 25,
      "metadata": {
        "id": "0248cf99-f281-409e-bf5f-7e1b63a10a64"
      },
      "outputs": [],
      "source": [
        "# Create the Liaw model.\n",
        "model = LiawModel(\n",
        "    initializer=initializer,\n",
        "    params=params,\n",
        "    dx=dx,\n",
        "    width=width,\n",
        "    height=height,\n",
        "    device=device\n",
        ")"
      ]
    },
    {
      "cell_type": "code",
      "execution_count": 35,
      "metadata": {
        "tags": [],
        "colab": {
          "base_uri": "https://localhost:8080/"
        },
        "id": "1a82d0ad-db43-45dd-a8a8-b7b5314c0d14",
        "outputId": "fb8cc0cb-cc7f-4dd6-8f13-4280b9d83067"
      },
      "outputs": [
        {
          "output_type": "stream",
          "name": "stdout",
          "text": [
            "Elapsed time: 3.450543 sec.\n"
          ]
        }
      ],
      "source": [
        "# Create the Euler solver.\n",
        "solver = EulerSolver()\n",
        "\n",
        "t_beg = time.time()\n",
        "\n",
        "solver.solve(\n",
        "    model=model,\n",
        "    dt=dt,\n",
        "    n_iters=n_iters,\n",
        "    dpath_model=dpath_output,\n",
        "    dpath_ladybird=dpath_output,\n",
        "    dpath_pattern=dpath_output,\n",
        "    verbose=0\n",
        ")\n",
        "\n",
        "t_end = time.time()\n",
        "\n",
        "print(\"Elapsed time: %f sec.\" % (t_end - t_beg))"
      ]
    },
    {
      "cell_type": "code",
      "execution_count": 36,
      "metadata": {
        "id": "cc0b63dc-1b1f-4ca1-bfca-624744e31035"
      },
      "outputs": [],
      "source": [
        "arr_color = model.colorize(thr_color=0.5)\n",
        "img_ladybird, img_pattern = model.create_image(0, arr_color)"
      ]
    },
    {
      "cell_type": "code",
      "execution_count": 37,
      "metadata": {
        "colab": {
          "base_uri": "https://localhost:8080/",
          "height": 143
        },
        "id": "9807903d-25e1-415f-a916-ccc003b567ff",
        "outputId": "117668c7-81b5-4f27-c6dd-3945ec3557ef"
      },
      "outputs": [
        {
          "output_type": "execute_result",
          "data": {
            "text/plain": [
              "<PIL.Image.Image image mode=RGBA size=104x126>"
            ],
            "image/png": "[encoded data removed]"
          },
          "metadata": {},
          "execution_count": 37
        }
      ],
      "source": [
        "img_ladybird"
      ]
    },
    {
      "cell_type": "code",
      "execution_count": 38,
      "metadata": {
        "colab": {
          "base_uri": "https://localhost:8080/",
          "height": 145
        },
        "id": "c3f7ed38-3c17-4ea2-a2d2-59b586307164",
        "outputId": "7b533284-03be-4606-d742-2188915fcd67"
      },
      "outputs": [
        {
          "output_type": "execute_result",
          "data": {
            "text/plain": [
              "<PIL.Image.Image image mode=RGB size=128x128>"
            ],
            "image/png": "[encoded data removed]"
          },
          "metadata": {},
          "execution_count": 38
        }
      ],
      "source": [
        "img_pattern"
      ]
    },
    {
      "cell_type": "code",
      "execution_count": null,
      "metadata": {
        "id": "8e308e02-8c80-4425-b662-2543070058bf"
      },
      "outputs": [],
      "source": [
        "model.save_image(index=0,\n",
        "                 fpath_ladybird=pjoin(dpath_output, \"ladybird.png\"),\n",
        "                 fpath_pattern=pjoin(dpath_output, \"pattern.png\"),\n",
        "                 arr_color=arr_color)"
      ]
    },
    {
      "cell_type": "code",
      "execution_count": null,
      "metadata": {
        "id": "c4184369-090f-4439-af3c-722dd4dc6744",
        "outputId": "233c5e17-560b-4f1e-e233-a0c5c023297c"
      },
      "outputs": [
        {
          "name": "stdout",
          "output_type": "stream",
          "text": [
            "ladybird.png\n",
            "model_1\n",
            "models\n",
            "pattern.png\n"
          ]
        },
        {
          "name": "stderr",
          "output_type": "stream",
          "text": [
            "sys:1: ResourceWarning: unclosed socket <zmq.Socket(zmq.PUSH) at 0x280f726afa0>\n",
            "ResourceWarning: Enable tracemalloc to get the object allocation traceback\n",
            "C:\\Anaconda3\\envs\\lpf\\lib\\site-packages\\IPython\\utils\\_process_win32.py:145: ResourceWarning: unclosed file <_io.BufferedWriter name=4>\n",
            "  return process_handler(cmd, _system_body)\n",
            "ResourceWarning: Enable tracemalloc to get the object allocation traceback\n",
            "C:\\Anaconda3\\envs\\lpf\\lib\\site-packages\\IPython\\utils\\_process_win32.py:145: ResourceWarning: unclosed file <_io.BufferedReader name=5>\n",
            "  return process_handler(cmd, _system_body)\n",
            "ResourceWarning: Enable tracemalloc to get the object allocation traceback\n",
            "C:\\Anaconda3\\envs\\lpf\\lib\\site-packages\\IPython\\utils\\_process_win32.py:145: ResourceWarning: unclosed file <_io.BufferedReader name=6>\n",
            "  return process_handler(cmd, _system_body)\n",
            "ResourceWarning: Enable tracemalloc to get the object allocation traceback\n"
          ]
        }
      ],
      "source": [
        "# !ls {dpath_output}"
      ]
    }
  ]
}
