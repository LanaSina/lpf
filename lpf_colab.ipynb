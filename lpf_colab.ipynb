{
  "nbformat": 4,
  "nbformat_minor": 0,
  "metadata": {
    "colab": {
      "provenance": [],
      "gpuType": "T4",
      "include_colab_link": true
    },
    "kernelspec": {
      "name": "python3",
      "display_name": "Python 3"
    },
    "language_info": {
      "name": "python"
    },
    "accelerator": "GPU"
  },
  "cells": [
    {
      "cell_type": "markdown",
      "metadata": {
        "id": "view-in-github",
        "colab_type": "text"
      },
      "source": [
        "<a href=\"https://colab.research.google.com/github/LanaSina/lpf_upper/blob/gpu/lpf_colab.ipynb\" target=\"_parent\"><img src=\"https://colab.research.google.com/assets/colab-badge.svg\" alt=\"Open In Colab\"/></a>"
      ]
    },
    {
      "cell_type": "markdown",
      "source": [
        "# Running LPF on colab\n",
        "\n",
        "Original code: https://github.com/cxinsys/lpf\n",
        "\n",
        "Paper: https://academic.oup.com/bioinformatics/article/39/7/btad430/7221539\n",
        "\n",
        "Just run all cells and get a ladybug."
      ],
      "metadata": {
        "id": "eg0_fZt1ipaE"
      }
    },
    {
      "cell_type": "markdown",
      "source": [
        "## Setup\n",
        "\n",
        "Pull code"
      ],
      "metadata": {
        "id": "yGOX5qnejDsO"
      }
    },
    {
      "cell_type": "code",
      "execution_count": 1,
      "metadata": {
        "colab": {
          "base_uri": "https://localhost:8080/"
        },
        "id": "Q0UTEdKQh5Xf",
        "outputId": "27dcc8cb-b382-4d9b-c3a0-68d1bfe1fcac"
      },
      "outputs": [
        {
          "output_type": "stream",
          "name": "stdout",
          "text": [
            "Cloning into 'lpf_upper'...\n",
            "remote: Enumerating objects: 2205, done.\u001b[K\n",
            "remote: Counting objects: 100% (63/63), done.\u001b[K\n",
            "remote: Compressing objects: 100% (58/58), done.\u001b[K\n",
            "remote: Total 2205 (delta 34), reused 13 (delta 5), pack-reused 2142\u001b[K\n",
            "Receiving objects: 100% (2205/2205), 36.22 MiB | 22.99 MiB/s, done.\n",
            "Resolving deltas: 100% (1447/1447), done.\n"
          ]
        }
      ],
      "source": [
        "!git clone https://github.com/LanaSina/lpf_upper.git"
      ]
    },
    {
      "cell_type": "markdown",
      "source": [
        "Install LPF"
      ],
      "metadata": {
        "id": "9Ych0NOjjRGH"
      }
    },
    {
      "cell_type": "code",
      "source": [
        "!python \"lpf_upper/setup.py\" install"
      ],
      "metadata": {
        "id": "aMn1MwnApMg7",
        "colab": {
          "base_uri": "https://localhost:8080/"
        },
        "outputId": "534edfc3-01ee-454a-9118-50a085ac0782"
      },
      "execution_count": 2,
      "outputs": [
        {
          "output_type": "stream",
          "name": "stdout",
          "text": [
            "running install\n",
            "/usr/local/lib/python3.10/dist-packages/setuptools/_distutils/cmd.py:66: SetuptoolsDeprecationWarning: setup.py install is deprecated.\n",
            "!!\n",
            "\n",
            "        ********************************************************************************\n",
            "        Please avoid running ``setup.py`` directly.\n",
            "        Instead, use pypa/build, pypa/installer, pypa/build or\n",
            "        other standards-based tools.\n",
            "\n",
            "        See https://blog.ganssle.io/articles/2021/10/setup-py-deprecated.html for details.\n",
            "        ********************************************************************************\n",
            "\n",
            "!!\n",
            "  self.initialize_options()\n",
            "/usr/local/lib/python3.10/dist-packages/setuptools/_distutils/cmd.py:66: EasyInstallDeprecationWarning: easy_install command is deprecated.\n",
            "!!\n",
            "\n",
            "        ********************************************************************************\n",
            "        Please avoid running ``setup.py`` and ``easy_install``.\n",
            "        Instead, use pypa/build, pypa/installer, pypa/build or\n",
            "        other standards-based tools.\n",
            "\n",
            "        See https://github.com/pypa/setuptools/issues/917 for details.\n",
            "        ********************************************************************************\n",
            "\n",
            "!!\n",
            "  self.initialize_options()\n",
            "running bdist_egg\n",
            "running egg_info\n",
            "creating lpf.egg-info\n",
            "writing lpf.egg-info/PKG-INFO\n",
            "writing dependency_links to lpf.egg-info/dependency_links.txt\n",
            "writing top-level names to lpf.egg-info/top_level.txt\n",
            "writing manifest file 'lpf.egg-info/SOURCES.txt'\n",
            "reading manifest file 'lpf.egg-info/SOURCES.txt'\n",
            "writing manifest file 'lpf.egg-info/SOURCES.txt'\n",
            "installing library code to build/bdist.linux-x86_64/egg\n",
            "running install_lib\n",
            "running build_py\n",
            "creating build\n",
            "creating build/lib\n",
            "creating build/lib/lpf_upper\n",
            "copying lpf_upper/__init__.py -> build/lib/lpf_upper\n",
            "copying lpf_upper/setup.py -> build/lib/lpf_upper\n",
            "creating build/lib/lpf_upper/lpf\n",
            "copying lpf_upper/lpf/__init__.py -> build/lib/lpf_upper/lpf\n",
            "creating build/lib/lpf_upper/lpf/visualization\n",
            "copying lpf_upper/lpf/visualization/__init__.py -> build/lib/lpf_upper/lpf/visualization\n",
            "copying lpf_upper/lpf/visualization/video.py -> build/lib/lpf_upper/lpf/visualization\n",
            "copying lpf_upper/lpf/visualization/image.py -> build/lib/lpf_upper/lpf/visualization\n",
            "creating build/lib/lpf_upper/lpf/objectives\n",
            "copying lpf_upper/lpf/objectives/mse.py -> build/lib/lpf_upper/lpf/objectives\n",
            "copying lpf_upper/lpf/objectives/ssim.py -> build/lib/lpf_upper/lpf/objectives\n",
            "copying lpf_upper/lpf/objectives/lpips.py -> build/lib/lpf_upper/lpf/objectives\n",
            "copying lpf_upper/lpf/objectives/__init__.py -> build/lib/lpf_upper/lpf/objectives\n",
            "copying lpf_upper/lpf/objectives/histrmse.py -> build/lib/lpf_upper/lpf/objectives\n",
            "copying lpf_upper/lpf/objectives/vggperceptualloss.py -> build/lib/lpf_upper/lpf/objectives\n",
            "copying lpf_upper/lpf/objectives/colorproportion.py -> build/lib/lpf_upper/lpf/objectives\n",
            "copying lpf_upper/lpf/objectives/objectivefactory.py -> build/lib/lpf_upper/lpf/objectives\n",
            "copying lpf_upper/lpf/objectives/objective.py -> build/lib/lpf_upper/lpf/objectives\n",
            "creating build/lib/lpf_upper/lpf/converters\n",
            "copying lpf_upper/lpf/converters/liawconverter.py -> build/lib/lpf_upper/lpf/converters\n",
            "copying lpf_upper/lpf/converters/gierermeinhardtconverter.py -> build/lib/lpf_upper/lpf/converters\n",
            "copying lpf_upper/lpf/converters/__init__.py -> build/lib/lpf_upper/lpf/converters\n",
            "copying lpf_upper/lpf/converters/grayscottconverter.py -> build/lib/lpf_upper/lpf/converters\n",
            "copying lpf_upper/lpf/converters/converter.py -> build/lib/lpf_upper/lpf/converters\n",
            "copying lpf_upper/lpf/converters/converterfactory.py -> build/lib/lpf_upper/lpf/converters\n",
            "copying lpf_upper/lpf/converters/schnakenbergconverter.py -> build/lib/lpf_upper/lpf/converters\n",
            "creating build/lib/lpf_upper/lpf/solvers\n",
            "copying lpf_upper/lpf/solvers/scipysolver.py -> build/lib/lpf_upper/lpf/solvers\n",
            "copying lpf_upper/lpf/solvers/solver.py -> build/lib/lpf_upper/lpf/solvers\n",
            "copying lpf_upper/lpf/solvers/__init__.py -> build/lib/lpf_upper/lpf/solvers\n",
            "copying lpf_upper/lpf/solvers/solverfactory.py -> build/lib/lpf_upper/lpf/solvers\n",
            "copying lpf_upper/lpf/solvers/eulersolver.py -> build/lib/lpf_upper/lpf/solvers\n",
            "copying lpf_upper/lpf/solvers/heunsolver.py -> build/lib/lpf_upper/lpf/solvers\n",
            "copying lpf_upper/lpf/solvers/rungekuttasolver.py -> build/lib/lpf_upper/lpf/solvers\n",
            "creating build/lib/lpf_upper/lpf/reproducers\n",
            "copying lpf_upper/lpf/reproducers/randomtwocomponentdiploidreproducer.py -> build/lib/lpf_upper/lpf/reproducers\n",
            "copying lpf_upper/lpf/reproducers/__init__.py -> build/lib/lpf_upper/lpf/reproducers\n",
            "creating build/lib/lpf_upper/lpf/array\n",
            "copying lpf_upper/lpf/array/module.py -> build/lib/lpf_upper/lpf/array\n",
            "copying lpf_upper/lpf/array/__init__.py -> build/lib/lpf_upper/lpf/array\n",
            "creating build/lib/lpf_upper/lpf/data\n",
            "copying lpf_upper/lpf/data/fileio.py -> build/lib/lpf_upper/lpf/data\n",
            "copying lpf_upper/lpf/data/__init__.py -> build/lib/lpf_upper/lpf/data\n",
            "creating build/lib/lpf_upper/lpf/models\n",
            "copying lpf_upper/lpf/models/twocomponentmodel.py -> build/lib/lpf_upper/lpf/models\n",
            "copying lpf_upper/lpf/models/modelfactory.py -> build/lib/lpf_upper/lpf/models\n",
            "copying lpf_upper/lpf/models/rdmodel.py -> build/lib/lpf_upper/lpf/models\n",
            "copying lpf_upper/lpf/models/__init__.py -> build/lib/lpf_upper/lpf/models\n",
            "copying lpf_upper/lpf/models/schnakenbergmodel.py -> build/lib/lpf_upper/lpf/models\n",
            "copying lpf_upper/lpf/models/liawmodel.py -> build/lib/lpf_upper/lpf/models\n",
            "copying lpf_upper/lpf/models/grayscottmodel.py -> build/lib/lpf_upper/lpf/models\n",
            "copying lpf_upper/lpf/models/gierermeinhardtmodel.py -> build/lib/lpf_upper/lpf/models\n",
            "copying lpf_upper/lpf/models/twocomponentdiploidmodel.py -> build/lib/lpf_upper/lpf/models\n",
            "copying lpf_upper/lpf/models/diploidy.py -> build/lib/lpf_upper/lpf/models\n",
            "copying lpf_upper/lpf/models/twocomponentcrosstalkdiploidmodel.py -> build/lib/lpf_upper/lpf/models\n",
            "creating build/lib/lpf_upper/lpf/utils\n",
            "copying lpf_upper/lpf/utils/hash.py -> build/lib/lpf_upper/lpf/utils\n",
            "copying lpf_upper/lpf/utils/__init__.py -> build/lib/lpf_upper/lpf/utils\n",
            "copying lpf_upper/lpf/utils/path.py -> build/lib/lpf_upper/lpf/utils\n",
            "creating build/lib/lpf_upper/lpf/initializers\n",
            "copying lpf_upper/lpf/initializers/twocomponentinitializer.py -> build/lib/lpf_upper/lpf/initializers\n",
            "copying lpf_upper/lpf/initializers/initializer.py -> build/lib/lpf_upper/lpf/initializers\n",
            "copying lpf_upper/lpf/initializers/liawinitializer.py -> build/lib/lpf_upper/lpf/initializers\n",
            "copying lpf_upper/lpf/initializers/__init__.py -> build/lib/lpf_upper/lpf/initializers\n",
            "copying lpf_upper/lpf/initializers/initializerfactory.py -> build/lib/lpf_upper/lpf/initializers\n",
            "copying lpf_upper/lpf/initializers/twocomponentconstantinitializer.py -> build/lib/lpf_upper/lpf/initializers\n",
            "creating build/lib/lpf_upper/lpf/search\n",
            "copying lpf_upper/lpf/search/__init__.py -> build/lib/lpf_upper/lpf/search\n",
            "copying lpf_upper/lpf/search/evosearch.py -> build/lib/lpf_upper/lpf/search\n",
            "creating build/bdist.linux-x86_64\n",
            "creating build/bdist.linux-x86_64/egg\n",
            "creating build/bdist.linux-x86_64/egg/lpf_upper\n",
            "copying build/lib/lpf_upper/__init__.py -> build/bdist.linux-x86_64/egg/lpf_upper\n",
            "copying build/lib/lpf_upper/setup.py -> build/bdist.linux-x86_64/egg/lpf_upper\n",
            "creating build/bdist.linux-x86_64/egg/lpf_upper/lpf\n",
            "creating build/bdist.linux-x86_64/egg/lpf_upper/lpf/visualization\n",
            "copying build/lib/lpf_upper/lpf/visualization/__init__.py -> build/bdist.linux-x86_64/egg/lpf_upper/lpf/visualization\n",
            "copying build/lib/lpf_upper/lpf/visualization/video.py -> build/bdist.linux-x86_64/egg/lpf_upper/lpf/visualization\n",
            "copying build/lib/lpf_upper/lpf/visualization/image.py -> build/bdist.linux-x86_64/egg/lpf_upper/lpf/visualization\n",
            "creating build/bdist.linux-x86_64/egg/lpf_upper/lpf/objectives\n",
            "copying build/lib/lpf_upper/lpf/objectives/mse.py -> build/bdist.linux-x86_64/egg/lpf_upper/lpf/objectives\n",
            "copying build/lib/lpf_upper/lpf/objectives/ssim.py -> build/bdist.linux-x86_64/egg/lpf_upper/lpf/objectives\n",
            "copying build/lib/lpf_upper/lpf/objectives/lpips.py -> build/bdist.linux-x86_64/egg/lpf_upper/lpf/objectives\n",
            "copying build/lib/lpf_upper/lpf/objectives/__init__.py -> build/bdist.linux-x86_64/egg/lpf_upper/lpf/objectives\n",
            "copying build/lib/lpf_upper/lpf/objectives/histrmse.py -> build/bdist.linux-x86_64/egg/lpf_upper/lpf/objectives\n",
            "copying build/lib/lpf_upper/lpf/objectives/vggperceptualloss.py -> build/bdist.linux-x86_64/egg/lpf_upper/lpf/objectives\n",
            "copying build/lib/lpf_upper/lpf/objectives/colorproportion.py -> build/bdist.linux-x86_64/egg/lpf_upper/lpf/objectives\n",
            "copying build/lib/lpf_upper/lpf/objectives/objectivefactory.py -> build/bdist.linux-x86_64/egg/lpf_upper/lpf/objectives\n",
            "copying build/lib/lpf_upper/lpf/objectives/objective.py -> build/bdist.linux-x86_64/egg/lpf_upper/lpf/objectives\n",
            "creating build/bdist.linux-x86_64/egg/lpf_upper/lpf/converters\n",
            "copying build/lib/lpf_upper/lpf/converters/liawconverter.py -> build/bdist.linux-x86_64/egg/lpf_upper/lpf/converters\n",
            "copying build/lib/lpf_upper/lpf/converters/gierermeinhardtconverter.py -> build/bdist.linux-x86_64/egg/lpf_upper/lpf/converters\n",
            "copying build/lib/lpf_upper/lpf/converters/__init__.py -> build/bdist.linux-x86_64/egg/lpf_upper/lpf/converters\n",
            "copying build/lib/lpf_upper/lpf/converters/grayscottconverter.py -> build/bdist.linux-x86_64/egg/lpf_upper/lpf/converters\n",
            "copying build/lib/lpf_upper/lpf/converters/converter.py -> build/bdist.linux-x86_64/egg/lpf_upper/lpf/converters\n",
            "copying build/lib/lpf_upper/lpf/converters/converterfactory.py -> build/bdist.linux-x86_64/egg/lpf_upper/lpf/converters\n",
            "copying build/lib/lpf_upper/lpf/converters/schnakenbergconverter.py -> build/bdist.linux-x86_64/egg/lpf_upper/lpf/converters\n",
            "copying build/lib/lpf_upper/lpf/__init__.py -> build/bdist.linux-x86_64/egg/lpf_upper/lpf\n",
            "creating build/bdist.linux-x86_64/egg/lpf_upper/lpf/solvers\n",
            "copying build/lib/lpf_upper/lpf/solvers/scipysolver.py -> build/bdist.linux-x86_64/egg/lpf_upper/lpf/solvers\n",
            "copying build/lib/lpf_upper/lpf/solvers/solver.py -> build/bdist.linux-x86_64/egg/lpf_upper/lpf/solvers\n",
            "copying build/lib/lpf_upper/lpf/solvers/__init__.py -> build/bdist.linux-x86_64/egg/lpf_upper/lpf/solvers\n",
            "copying build/lib/lpf_upper/lpf/solvers/solverfactory.py -> build/bdist.linux-x86_64/egg/lpf_upper/lpf/solvers\n",
            "copying build/lib/lpf_upper/lpf/solvers/eulersolver.py -> build/bdist.linux-x86_64/egg/lpf_upper/lpf/solvers\n",
            "copying build/lib/lpf_upper/lpf/solvers/heunsolver.py -> build/bdist.linux-x86_64/egg/lpf_upper/lpf/solvers\n",
            "copying build/lib/lpf_upper/lpf/solvers/rungekuttasolver.py -> build/bdist.linux-x86_64/egg/lpf_upper/lpf/solvers\n",
            "creating build/bdist.linux-x86_64/egg/lpf_upper/lpf/reproducers\n",
            "copying build/lib/lpf_upper/lpf/reproducers/randomtwocomponentdiploidreproducer.py -> build/bdist.linux-x86_64/egg/lpf_upper/lpf/reproducers\n",
            "copying build/lib/lpf_upper/lpf/reproducers/__init__.py -> build/bdist.linux-x86_64/egg/lpf_upper/lpf/reproducers\n",
            "creating build/bdist.linux-x86_64/egg/lpf_upper/lpf/array\n",
            "copying build/lib/lpf_upper/lpf/array/module.py -> build/bdist.linux-x86_64/egg/lpf_upper/lpf/array\n",
            "copying build/lib/lpf_upper/lpf/array/__init__.py -> build/bdist.linux-x86_64/egg/lpf_upper/lpf/array\n",
            "creating build/bdist.linux-x86_64/egg/lpf_upper/lpf/data\n",
            "copying build/lib/lpf_upper/lpf/data/fileio.py -> build/bdist.linux-x86_64/egg/lpf_upper/lpf/data\n",
            "copying build/lib/lpf_upper/lpf/data/__init__.py -> build/bdist.linux-x86_64/egg/lpf_upper/lpf/data\n",
            "creating build/bdist.linux-x86_64/egg/lpf_upper/lpf/models\n",
            "copying build/lib/lpf_upper/lpf/models/twocomponentmodel.py -> build/bdist.linux-x86_64/egg/lpf_upper/lpf/models\n",
            "copying build/lib/lpf_upper/lpf/models/modelfactory.py -> build/bdist.linux-x86_64/egg/lpf_upper/lpf/models\n",
            "copying build/lib/lpf_upper/lpf/models/rdmodel.py -> build/bdist.linux-x86_64/egg/lpf_upper/lpf/models\n",
            "copying build/lib/lpf_upper/lpf/models/__init__.py -> build/bdist.linux-x86_64/egg/lpf_upper/lpf/models\n",
            "copying build/lib/lpf_upper/lpf/models/schnakenbergmodel.py -> build/bdist.linux-x86_64/egg/lpf_upper/lpf/models\n",
            "copying build/lib/lpf_upper/lpf/models/liawmodel.py -> build/bdist.linux-x86_64/egg/lpf_upper/lpf/models\n",
            "copying build/lib/lpf_upper/lpf/models/grayscottmodel.py -> build/bdist.linux-x86_64/egg/lpf_upper/lpf/models\n",
            "copying build/lib/lpf_upper/lpf/models/gierermeinhardtmodel.py -> build/bdist.linux-x86_64/egg/lpf_upper/lpf/models\n",
            "copying build/lib/lpf_upper/lpf/models/twocomponentdiploidmodel.py -> build/bdist.linux-x86_64/egg/lpf_upper/lpf/models\n",
            "copying build/lib/lpf_upper/lpf/models/diploidy.py -> build/bdist.linux-x86_64/egg/lpf_upper/lpf/models\n",
            "copying build/lib/lpf_upper/lpf/models/twocomponentcrosstalkdiploidmodel.py -> build/bdist.linux-x86_64/egg/lpf_upper/lpf/models\n",
            "creating build/bdist.linux-x86_64/egg/lpf_upper/lpf/utils\n",
            "copying build/lib/lpf_upper/lpf/utils/hash.py -> build/bdist.linux-x86_64/egg/lpf_upper/lpf/utils\n",
            "copying build/lib/lpf_upper/lpf/utils/__init__.py -> build/bdist.linux-x86_64/egg/lpf_upper/lpf/utils\n",
            "copying build/lib/lpf_upper/lpf/utils/path.py -> build/bdist.linux-x86_64/egg/lpf_upper/lpf/utils\n",
            "creating build/bdist.linux-x86_64/egg/lpf_upper/lpf/initializers\n",
            "copying build/lib/lpf_upper/lpf/initializers/twocomponentinitializer.py -> build/bdist.linux-x86_64/egg/lpf_upper/lpf/initializers\n",
            "copying build/lib/lpf_upper/lpf/initializers/initializer.py -> build/bdist.linux-x86_64/egg/lpf_upper/lpf/initializers\n",
            "copying build/lib/lpf_upper/lpf/initializers/liawinitializer.py -> build/bdist.linux-x86_64/egg/lpf_upper/lpf/initializers\n",
            "copying build/lib/lpf_upper/lpf/initializers/__init__.py -> build/bdist.linux-x86_64/egg/lpf_upper/lpf/initializers\n",
            "copying build/lib/lpf_upper/lpf/initializers/initializerfactory.py -> build/bdist.linux-x86_64/egg/lpf_upper/lpf/initializers\n",
            "copying build/lib/lpf_upper/lpf/initializers/twocomponentconstantinitializer.py -> build/bdist.linux-x86_64/egg/lpf_upper/lpf/initializers\n",
            "creating build/bdist.linux-x86_64/egg/lpf_upper/lpf/search\n",
            "copying build/lib/lpf_upper/lpf/search/__init__.py -> build/bdist.linux-x86_64/egg/lpf_upper/lpf/search\n",
            "copying build/lib/lpf_upper/lpf/search/evosearch.py -> build/bdist.linux-x86_64/egg/lpf_upper/lpf/search\n",
            "byte-compiling build/bdist.linux-x86_64/egg/lpf_upper/__init__.py to __init__.cpython-310.pyc\n",
            "byte-compiling build/bdist.linux-x86_64/egg/lpf_upper/setup.py to setup.cpython-310.pyc\n",
            "byte-compiling build/bdist.linux-x86_64/egg/lpf_upper/lpf/visualization/__init__.py to __init__.cpython-310.pyc\n",
            "byte-compiling build/bdist.linux-x86_64/egg/lpf_upper/lpf/visualization/video.py to video.cpython-310.pyc\n",
            "byte-compiling build/bdist.linux-x86_64/egg/lpf_upper/lpf/visualization/image.py to image.cpython-310.pyc\n",
            "byte-compiling build/bdist.linux-x86_64/egg/lpf_upper/lpf/objectives/mse.py to mse.cpython-310.pyc\n",
            "byte-compiling build/bdist.linux-x86_64/egg/lpf_upper/lpf/objectives/ssim.py to ssim.cpython-310.pyc\n",
            "byte-compiling build/bdist.linux-x86_64/egg/lpf_upper/lpf/objectives/lpips.py to lpips.cpython-310.pyc\n",
            "byte-compiling build/bdist.linux-x86_64/egg/lpf_upper/lpf/objectives/__init__.py to __init__.cpython-310.pyc\n",
            "byte-compiling build/bdist.linux-x86_64/egg/lpf_upper/lpf/objectives/histrmse.py to histrmse.cpython-310.pyc\n",
            "byte-compiling build/bdist.linux-x86_64/egg/lpf_upper/lpf/objectives/vggperceptualloss.py to vggperceptualloss.cpython-310.pyc\n",
            "byte-compiling build/bdist.linux-x86_64/egg/lpf_upper/lpf/objectives/colorproportion.py to colorproportion.cpython-310.pyc\n",
            "byte-compiling build/bdist.linux-x86_64/egg/lpf_upper/lpf/objectives/objectivefactory.py to objectivefactory.cpython-310.pyc\n",
            "byte-compiling build/bdist.linux-x86_64/egg/lpf_upper/lpf/objectives/objective.py to objective.cpython-310.pyc\n",
            "byte-compiling build/bdist.linux-x86_64/egg/lpf_upper/lpf/converters/liawconverter.py to liawconverter.cpython-310.pyc\n",
            "byte-compiling build/bdist.linux-x86_64/egg/lpf_upper/lpf/converters/gierermeinhardtconverter.py to gierermeinhardtconverter.cpython-310.pyc\n",
            "byte-compiling build/bdist.linux-x86_64/egg/lpf_upper/lpf/converters/__init__.py to __init__.cpython-310.pyc\n",
            "byte-compiling build/bdist.linux-x86_64/egg/lpf_upper/lpf/converters/grayscottconverter.py to grayscottconverter.cpython-310.pyc\n",
            "byte-compiling build/bdist.linux-x86_64/egg/lpf_upper/lpf/converters/converter.py to converter.cpython-310.pyc\n",
            "byte-compiling build/bdist.linux-x86_64/egg/lpf_upper/lpf/converters/converterfactory.py to converterfactory.cpython-310.pyc\n",
            "byte-compiling build/bdist.linux-x86_64/egg/lpf_upper/lpf/converters/schnakenbergconverter.py to schnakenbergconverter.cpython-310.pyc\n",
            "byte-compiling build/bdist.linux-x86_64/egg/lpf_upper/lpf/__init__.py to __init__.cpython-310.pyc\n",
            "byte-compiling build/bdist.linux-x86_64/egg/lpf_upper/lpf/solvers/scipysolver.py to scipysolver.cpython-310.pyc\n",
            "byte-compiling build/bdist.linux-x86_64/egg/lpf_upper/lpf/solvers/solver.py to solver.cpython-310.pyc\n",
            "byte-compiling build/bdist.linux-x86_64/egg/lpf_upper/lpf/solvers/__init__.py to __init__.cpython-310.pyc\n",
            "byte-compiling build/bdist.linux-x86_64/egg/lpf_upper/lpf/solvers/solverfactory.py to solverfactory.cpython-310.pyc\n",
            "byte-compiling build/bdist.linux-x86_64/egg/lpf_upper/lpf/solvers/eulersolver.py to eulersolver.cpython-310.pyc\n",
            "byte-compiling build/bdist.linux-x86_64/egg/lpf_upper/lpf/solvers/heunsolver.py to heunsolver.cpython-310.pyc\n",
            "byte-compiling build/bdist.linux-x86_64/egg/lpf_upper/lpf/solvers/rungekuttasolver.py to rungekuttasolver.cpython-310.pyc\n",
            "byte-compiling build/bdist.linux-x86_64/egg/lpf_upper/lpf/reproducers/randomtwocomponentdiploidreproducer.py to randomtwocomponentdiploidreproducer.cpython-310.pyc\n",
            "byte-compiling build/bdist.linux-x86_64/egg/lpf_upper/lpf/reproducers/__init__.py to __init__.cpython-310.pyc\n",
            "byte-compiling build/bdist.linux-x86_64/egg/lpf_upper/lpf/array/module.py to module.cpython-310.pyc\n",
            "byte-compiling build/bdist.linux-x86_64/egg/lpf_upper/lpf/array/__init__.py to __init__.cpython-310.pyc\n",
            "byte-compiling build/bdist.linux-x86_64/egg/lpf_upper/lpf/data/fileio.py to fileio.cpython-310.pyc\n",
            "byte-compiling build/bdist.linux-x86_64/egg/lpf_upper/lpf/data/__init__.py to __init__.cpython-310.pyc\n",
            "byte-compiling build/bdist.linux-x86_64/egg/lpf_upper/lpf/models/twocomponentmodel.py to twocomponentmodel.cpython-310.pyc\n",
            "byte-compiling build/bdist.linux-x86_64/egg/lpf_upper/lpf/models/modelfactory.py to modelfactory.cpython-310.pyc\n",
            "byte-compiling build/bdist.linux-x86_64/egg/lpf_upper/lpf/models/rdmodel.py to rdmodel.cpython-310.pyc\n",
            "byte-compiling build/bdist.linux-x86_64/egg/lpf_upper/lpf/models/__init__.py to __init__.cpython-310.pyc\n",
            "byte-compiling build/bdist.linux-x86_64/egg/lpf_upper/lpf/models/schnakenbergmodel.py to schnakenbergmodel.cpython-310.pyc\n",
            "byte-compiling build/bdist.linux-x86_64/egg/lpf_upper/lpf/models/liawmodel.py to liawmodel.cpython-310.pyc\n",
            "byte-compiling build/bdist.linux-x86_64/egg/lpf_upper/lpf/models/grayscottmodel.py to grayscottmodel.cpython-310.pyc\n",
            "byte-compiling build/bdist.linux-x86_64/egg/lpf_upper/lpf/models/gierermeinhardtmodel.py to gierermeinhardtmodel.cpython-310.pyc\n",
            "byte-compiling build/bdist.linux-x86_64/egg/lpf_upper/lpf/models/twocomponentdiploidmodel.py to twocomponentdiploidmodel.cpython-310.pyc\n",
            "byte-compiling build/bdist.linux-x86_64/egg/lpf_upper/lpf/models/diploidy.py to diploidy.cpython-310.pyc\n",
            "byte-compiling build/bdist.linux-x86_64/egg/lpf_upper/lpf/models/twocomponentcrosstalkdiploidmodel.py to twocomponentcrosstalkdiploidmodel.cpython-310.pyc\n",
            "byte-compiling build/bdist.linux-x86_64/egg/lpf_upper/lpf/utils/hash.py to hash.cpython-310.pyc\n",
            "byte-compiling build/bdist.linux-x86_64/egg/lpf_upper/lpf/utils/__init__.py to __init__.cpython-310.pyc\n",
            "byte-compiling build/bdist.linux-x86_64/egg/lpf_upper/lpf/utils/path.py to path.cpython-310.pyc\n",
            "byte-compiling build/bdist.linux-x86_64/egg/lpf_upper/lpf/initializers/twocomponentinitializer.py to twocomponentinitializer.cpython-310.pyc\n",
            "byte-compiling build/bdist.linux-x86_64/egg/lpf_upper/lpf/initializers/initializer.py to initializer.cpython-310.pyc\n",
            "byte-compiling build/bdist.linux-x86_64/egg/lpf_upper/lpf/initializers/liawinitializer.py to liawinitializer.cpython-310.pyc\n",
            "byte-compiling build/bdist.linux-x86_64/egg/lpf_upper/lpf/initializers/__init__.py to __init__.cpython-310.pyc\n",
            "byte-compiling build/bdist.linux-x86_64/egg/lpf_upper/lpf/initializers/initializerfactory.py to initializerfactory.cpython-310.pyc\n",
            "byte-compiling build/bdist.linux-x86_64/egg/lpf_upper/lpf/initializers/twocomponentconstantinitializer.py to twocomponentconstantinitializer.cpython-310.pyc\n",
            "byte-compiling build/bdist.linux-x86_64/egg/lpf_upper/lpf/search/__init__.py to __init__.cpython-310.pyc\n",
            "byte-compiling build/bdist.linux-x86_64/egg/lpf_upper/lpf/search/evosearch.py to evosearch.cpython-310.pyc\n",
            "creating build/bdist.linux-x86_64/egg/EGG-INFO\n",
            "copying lpf.egg-info/PKG-INFO -> build/bdist.linux-x86_64/egg/EGG-INFO\n",
            "copying lpf.egg-info/SOURCES.txt -> build/bdist.linux-x86_64/egg/EGG-INFO\n",
            "copying lpf.egg-info/dependency_links.txt -> build/bdist.linux-x86_64/egg/EGG-INFO\n",
            "copying lpf.egg-info/top_level.txt -> build/bdist.linux-x86_64/egg/EGG-INFO\n",
            "zip_safe flag not set; analyzing archive contents...\n",
            "lpf_upper.lpf.utils.__pycache__.path.cpython-310: module references __file__\n",
            "creating dist\n",
            "creating 'dist/lpf-0.0.1-py3.10.egg' and adding 'build/bdist.linux-x86_64/egg' to it\n",
            "removing 'build/bdist.linux-x86_64/egg' (and everything under it)\n",
            "Processing lpf-0.0.1-py3.10.egg\n",
            "creating /usr/local/lib/python3.10/dist-packages/lpf-0.0.1-py3.10.egg\n",
            "Extracting lpf-0.0.1-py3.10.egg to /usr/local/lib/python3.10/dist-packages\n",
            "Adding lpf 0.0.1 to easy-install.pth file\n",
            "\n",
            "Installed /usr/local/lib/python3.10/dist-packages/lpf-0.0.1-py3.10.egg\n",
            "Processing dependencies for lpf==0.0.1\n",
            "Finished processing dependencies for lpf==0.0.1\n"
          ]
        }
      ]
    },
    {
      "cell_type": "code",
      "source": [
        "%pwd\n",
        "%ls\n",
        "%cd lpf_upper\n",
        "!pip install -r requirements.txt"
      ],
      "metadata": {
        "colab": {
          "base_uri": "https://localhost:8080/"
        },
        "id": "uNVd0yxEjSxp",
        "outputId": "1ea55592-4905-43df-ac88-82ca40f58319"
      },
      "execution_count": 3,
      "outputs": [
        {
          "output_type": "stream",
          "name": "stdout",
          "text": [
            "\u001b[0m\u001b[01;34mbuild\u001b[0m/  \u001b[01;34mdist\u001b[0m/  \u001b[01;34mlpf.egg-info\u001b[0m/  \u001b[01;34mlpf_upper\u001b[0m/  \u001b[01;34msample_data\u001b[0m/\n",
            "/content/lpf_upper\n",
            "Requirement already satisfied: numpy in /usr/local/lib/python3.10/dist-packages (from -r requirements.txt (line 1)) (1.23.5)\n",
            "Requirement already satisfied: scipy in /usr/local/lib/python3.10/dist-packages (from -r requirements.txt (line 2)) (1.10.1)\n",
            "Requirement already satisfied: pillow in /usr/local/lib/python3.10/dist-packages (from -r requirements.txt (line 3)) (9.4.0)\n",
            "Requirement already satisfied: tqdm in /usr/local/lib/python3.10/dist-packages (from -r requirements.txt (line 4)) (4.66.1)\n",
            "Requirement already satisfied: pyyaml in /usr/local/lib/python3.10/dist-packages (from -r requirements.txt (line 5)) (6.0.1)\n",
            "Collecting xxhash (from -r requirements.txt (line 6))\n",
            "  Downloading xxhash-3.3.0-cp310-cp310-manylinux_2_17_x86_64.manylinux2014_x86_64.whl (194 kB)\n",
            "\u001b[2K     \u001b[90m━━━━━━━━━━━━━━━━━━━━━━━━━━━━━━━━━━━━━━━\u001b[0m \u001b[32m194.1/194.1 kB\u001b[0m \u001b[31m1.8 MB/s\u001b[0m eta \u001b[36m0:00:00\u001b[0m\n",
            "\u001b[?25hInstalling collected packages: xxhash\n",
            "Successfully installed xxhash-3.3.0\n"
          ]
        }
      ]
    },
    {
      "cell_type": "markdown",
      "source": [
        "Install PyGMO"
      ],
      "metadata": {
        "id": "x21qZjErjZ1W"
      }
    },
    {
      "cell_type": "code",
      "source": [
        "!pip install pygmo\n",
        "!pip install torchmetrics\n",
        "# order matters!\n",
        "!pip install lpips\n",
        "!pip install torchmetrics[image]\n",
        "#-c conda-forge\n",
        "# for tutorial 6\n",
        "!pip install dill\n"
      ],
      "metadata": {
        "id": "NF58MAFAjhBl",
        "colab": {
          "base_uri": "https://localhost:8080/"
        },
        "outputId": "0b5d17ba-5fd9-4faa-dbac-16839fd02aef"
      },
      "execution_count": 4,
      "outputs": [
        {
          "output_type": "stream",
          "name": "stdout",
          "text": [
            "Collecting pygmo\n",
            "  Downloading pygmo-2.19.5-cp310-cp310-manylinux_2_28_x86_64.whl (14.7 MB)\n",
            "\u001b[2K     \u001b[90m━━━━━━━━━━━━━━━━━━━━━━━━━━━━━━━━━━━━━━━━\u001b[0m \u001b[32m14.7/14.7 MB\u001b[0m \u001b[31m10.7 MB/s\u001b[0m eta \u001b[36m0:00:00\u001b[0m\n",
            "\u001b[?25hRequirement already satisfied: numpy in /usr/local/lib/python3.10/dist-packages (from pygmo) (1.23.5)\n",
            "Requirement already satisfied: cloudpickle in /usr/local/lib/python3.10/dist-packages (from pygmo) (2.2.1)\n",
            "Requirement already satisfied: scipy in /usr/local/lib/python3.10/dist-packages (from pygmo) (1.10.1)\n",
            "Installing collected packages: pygmo\n",
            "Successfully installed pygmo-2.19.5\n",
            "Collecting torchmetrics\n",
            "  Downloading torchmetrics-1.1.0-py3-none-any.whl (761 kB)\n",
            "\u001b[2K     \u001b[90m━━━━━━━━━━━━━━━━━━━━━━━━━━━━━━━━━━━━━━━\u001b[0m \u001b[32m761.3/761.3 kB\u001b[0m \u001b[31m6.8 MB/s\u001b[0m eta \u001b[36m0:00:00\u001b[0m\n",
            "\u001b[?25hRequirement already satisfied: numpy>1.20.0 in /usr/local/lib/python3.10/dist-packages (from torchmetrics) (1.23.5)\n",
            "Requirement already satisfied: torch>=1.8.1 in /usr/local/lib/python3.10/dist-packages (from torchmetrics) (2.0.1+cu118)\n",
            "Requirement already satisfied: packaging in /usr/local/lib/python3.10/dist-packages (from torchmetrics) (23.1)\n",
            "Collecting lightning-utilities>=0.8.0 (from torchmetrics)\n",
            "  Downloading lightning_utilities-0.9.0-py3-none-any.whl (23 kB)\n",
            "Requirement already satisfied: typing-extensions in /usr/local/lib/python3.10/dist-packages (from lightning-utilities>=0.8.0->torchmetrics) (4.7.1)\n",
            "Requirement already satisfied: filelock in /usr/local/lib/python3.10/dist-packages (from torch>=1.8.1->torchmetrics) (3.12.2)\n",
            "Requirement already satisfied: sympy in /usr/local/lib/python3.10/dist-packages (from torch>=1.8.1->torchmetrics) (1.12)\n",
            "Requirement already satisfied: networkx in /usr/local/lib/python3.10/dist-packages (from torch>=1.8.1->torchmetrics) (3.1)\n",
            "Requirement already satisfied: jinja2 in /usr/local/lib/python3.10/dist-packages (from torch>=1.8.1->torchmetrics) (3.1.2)\n",
            "Requirement already satisfied: triton==2.0.0 in /usr/local/lib/python3.10/dist-packages (from torch>=1.8.1->torchmetrics) (2.0.0)\n",
            "Requirement already satisfied: cmake in /usr/local/lib/python3.10/dist-packages (from triton==2.0.0->torch>=1.8.1->torchmetrics) (3.27.2)\n",
            "Requirement already satisfied: lit in /usr/local/lib/python3.10/dist-packages (from triton==2.0.0->torch>=1.8.1->torchmetrics) (16.0.6)\n",
            "Requirement already satisfied: MarkupSafe>=2.0 in /usr/local/lib/python3.10/dist-packages (from jinja2->torch>=1.8.1->torchmetrics) (2.1.3)\n",
            "Requirement already satisfied: mpmath>=0.19 in /usr/local/lib/python3.10/dist-packages (from sympy->torch>=1.8.1->torchmetrics) (1.3.0)\n",
            "Installing collected packages: lightning-utilities, torchmetrics\n",
            "Successfully installed lightning-utilities-0.9.0 torchmetrics-1.1.0\n",
            "Collecting lpips\n",
            "  Downloading lpips-0.1.4-py3-none-any.whl (53 kB)\n",
            "\u001b[2K     \u001b[90m━━━━━━━━━━━━━━━━━━━━━━━━━━━━━━━━━━━━━━━━\u001b[0m \u001b[32m53.8/53.8 kB\u001b[0m \u001b[31m1.5 MB/s\u001b[0m eta \u001b[36m0:00:00\u001b[0m\n",
            "\u001b[?25hRequirement already satisfied: torch>=0.4.0 in /usr/local/lib/python3.10/dist-packages (from lpips) (2.0.1+cu118)\n",
            "Requirement already satisfied: torchvision>=0.2.1 in /usr/local/lib/python3.10/dist-packages (from lpips) (0.15.2+cu118)\n",
            "Requirement already satisfied: numpy>=1.14.3 in /usr/local/lib/python3.10/dist-packages (from lpips) (1.23.5)\n",
            "Requirement already satisfied: scipy>=1.0.1 in /usr/local/lib/python3.10/dist-packages (from lpips) (1.10.1)\n",
            "Requirement already satisfied: tqdm>=4.28.1 in /usr/local/lib/python3.10/dist-packages (from lpips) (4.66.1)\n",
            "Requirement already satisfied: filelock in /usr/local/lib/python3.10/dist-packages (from torch>=0.4.0->lpips) (3.12.2)\n",
            "Requirement already satisfied: typing-extensions in /usr/local/lib/python3.10/dist-packages (from torch>=0.4.0->lpips) (4.7.1)\n",
            "Requirement already satisfied: sympy in /usr/local/lib/python3.10/dist-packages (from torch>=0.4.0->lpips) (1.12)\n",
            "Requirement already satisfied: networkx in /usr/local/lib/python3.10/dist-packages (from torch>=0.4.0->lpips) (3.1)\n",
            "Requirement already satisfied: jinja2 in /usr/local/lib/python3.10/dist-packages (from torch>=0.4.0->lpips) (3.1.2)\n",
            "Requirement already satisfied: triton==2.0.0 in /usr/local/lib/python3.10/dist-packages (from torch>=0.4.0->lpips) (2.0.0)\n",
            "Requirement already satisfied: cmake in /usr/local/lib/python3.10/dist-packages (from triton==2.0.0->torch>=0.4.0->lpips) (3.27.2)\n",
            "Requirement already satisfied: lit in /usr/local/lib/python3.10/dist-packages (from triton==2.0.0->torch>=0.4.0->lpips) (16.0.6)\n",
            "Requirement already satisfied: requests in /usr/local/lib/python3.10/dist-packages (from torchvision>=0.2.1->lpips) (2.31.0)\n",
            "Requirement already satisfied: pillow!=8.3.*,>=5.3.0 in /usr/local/lib/python3.10/dist-packages (from torchvision>=0.2.1->lpips) (9.4.0)\n",
            "Requirement already satisfied: MarkupSafe>=2.0 in /usr/local/lib/python3.10/dist-packages (from jinja2->torch>=0.4.0->lpips) (2.1.3)\n",
            "Requirement already satisfied: charset-normalizer<4,>=2 in /usr/local/lib/python3.10/dist-packages (from requests->torchvision>=0.2.1->lpips) (3.2.0)\n",
            "Requirement already satisfied: idna<4,>=2.5 in /usr/local/lib/python3.10/dist-packages (from requests->torchvision>=0.2.1->lpips) (3.4)\n",
            "Requirement already satisfied: urllib3<3,>=1.21.1 in /usr/local/lib/python3.10/dist-packages (from requests->torchvision>=0.2.1->lpips) (2.0.4)\n",
            "Requirement already satisfied: certifi>=2017.4.17 in /usr/local/lib/python3.10/dist-packages (from requests->torchvision>=0.2.1->lpips) (2023.7.22)\n",
            "Requirement already satisfied: mpmath>=0.19 in /usr/local/lib/python3.10/dist-packages (from sympy->torch>=0.4.0->lpips) (1.3.0)\n",
            "Installing collected packages: lpips\n",
            "Successfully installed lpips-0.1.4\n",
            "Requirement already satisfied: torchmetrics[image] in /usr/local/lib/python3.10/dist-packages (1.1.0)\n",
            "Requirement already satisfied: numpy>1.20.0 in /usr/local/lib/python3.10/dist-packages (from torchmetrics[image]) (1.23.5)\n",
            "Requirement already satisfied: torch>=1.8.1 in /usr/local/lib/python3.10/dist-packages (from torchmetrics[image]) (2.0.1+cu118)\n",
            "Requirement already satisfied: packaging in /usr/local/lib/python3.10/dist-packages (from torchmetrics[image]) (23.1)\n",
            "Requirement already satisfied: lightning-utilities>=0.8.0 in /usr/local/lib/python3.10/dist-packages (from torchmetrics[image]) (0.9.0)\n",
            "Requirement already satisfied: scipy>1.0.0 in /usr/local/lib/python3.10/dist-packages (from torchmetrics[image]) (1.10.1)\n",
            "Requirement already satisfied: lpips<=0.1.4 in /usr/local/lib/python3.10/dist-packages (from torchmetrics[image]) (0.1.4)\n",
            "Collecting torch-fidelity<=0.4.0 (from torchmetrics[image])\n",
            "  Downloading torch_fidelity-0.3.0-py3-none-any.whl (37 kB)\n",
            "Requirement already satisfied: torchvision>=0.8 in /usr/local/lib/python3.10/dist-packages (from torchmetrics[image]) (0.15.2+cu118)\n",
            "Requirement already satisfied: typing-extensions in /usr/local/lib/python3.10/dist-packages (from lightning-utilities>=0.8.0->torchmetrics[image]) (4.7.1)\n",
            "Requirement already satisfied: tqdm>=4.28.1 in /usr/local/lib/python3.10/dist-packages (from lpips<=0.1.4->torchmetrics[image]) (4.66.1)\n",
            "Requirement already satisfied: filelock in /usr/local/lib/python3.10/dist-packages (from torch>=1.8.1->torchmetrics[image]) (3.12.2)\n",
            "Requirement already satisfied: sympy in /usr/local/lib/python3.10/dist-packages (from torch>=1.8.1->torchmetrics[image]) (1.12)\n",
            "Requirement already satisfied: networkx in /usr/local/lib/python3.10/dist-packages (from torch>=1.8.1->torchmetrics[image]) (3.1)\n",
            "Requirement already satisfied: jinja2 in /usr/local/lib/python3.10/dist-packages (from torch>=1.8.1->torchmetrics[image]) (3.1.2)\n",
            "Requirement already satisfied: triton==2.0.0 in /usr/local/lib/python3.10/dist-packages (from torch>=1.8.1->torchmetrics[image]) (2.0.0)\n",
            "Requirement already satisfied: cmake in /usr/local/lib/python3.10/dist-packages (from triton==2.0.0->torch>=1.8.1->torchmetrics[image]) (3.27.2)\n",
            "Requirement already satisfied: lit in /usr/local/lib/python3.10/dist-packages (from triton==2.0.0->torch>=1.8.1->torchmetrics[image]) (16.0.6)\n",
            "Requirement already satisfied: Pillow in /usr/local/lib/python3.10/dist-packages (from torch-fidelity<=0.4.0->torchmetrics[image]) (9.4.0)\n",
            "Requirement already satisfied: requests in /usr/local/lib/python3.10/dist-packages (from torchvision>=0.8->torchmetrics[image]) (2.31.0)\n",
            "Requirement already satisfied: MarkupSafe>=2.0 in /usr/local/lib/python3.10/dist-packages (from jinja2->torch>=1.8.1->torchmetrics[image]) (2.1.3)\n",
            "Requirement already satisfied: charset-normalizer<4,>=2 in /usr/local/lib/python3.10/dist-packages (from requests->torchvision>=0.8->torchmetrics[image]) (3.2.0)\n",
            "Requirement already satisfied: idna<4,>=2.5 in /usr/local/lib/python3.10/dist-packages (from requests->torchvision>=0.8->torchmetrics[image]) (3.4)\n",
            "Requirement already satisfied: urllib3<3,>=1.21.1 in /usr/local/lib/python3.10/dist-packages (from requests->torchvision>=0.8->torchmetrics[image]) (2.0.4)\n",
            "Requirement already satisfied: certifi>=2017.4.17 in /usr/local/lib/python3.10/dist-packages (from requests->torchvision>=0.8->torchmetrics[image]) (2023.7.22)\n",
            "Requirement already satisfied: mpmath>=0.19 in /usr/local/lib/python3.10/dist-packages (from sympy->torch>=1.8.1->torchmetrics[image]) (1.3.0)\n",
            "Installing collected packages: torch-fidelity\n",
            "Successfully installed torch-fidelity-0.3.0\n"
          ]
        }
      ]
    },
    {
      "cell_type": "markdown",
      "source": [
        "## Learn parameters from photo"
      ],
      "metadata": {
        "id": "ZlFukRTU0Hh3"
      }
    },
    {
      "cell_type": "markdown",
      "source": [
        "!! Warning !! Make this session GPU if using this tutorial."
      ],
      "metadata": {
        "id": "_L43dxL-3_v0"
      }
    },
    {
      "cell_type": "code",
      "execution_count": 5,
      "metadata": {
        "colab": {
          "base_uri": "https://localhost:8080/"
        },
        "id": "d719c939-3ab4-4ffb-9bad-1179bcb60c05",
        "outputId": "0f1eda4f-4a55-4f88-ac52-c98db555e488"
      },
      "outputs": [
        {
          "output_type": "stream",
          "name": "stderr",
          "text": [
            "<frozen importlib._bootstrap>:914: ImportWarning: APICoreClientInfoImportHook.find_spec() not found; falling back to find_module()\n",
            "<frozen importlib._bootstrap>:914: ImportWarning: _PyDriveImportHook.find_spec() not found; falling back to find_module()\n",
            "<frozen importlib._bootstrap>:914: ImportWarning: _OpenCVImportHook.find_spec() not found; falling back to find_module()\n",
            "<frozen importlib._bootstrap>:914: ImportWarning: _BokehImportHook.find_spec() not found; falling back to find_module()\n",
            "<frozen importlib._bootstrap>:914: ImportWarning: _AltairImportHook.find_spec() not found; falling back to find_module()\n",
            "<frozen importlib._bootstrap>:671: ImportWarning: _OpenCVImportHook.exec_module() not found; falling back to load_module()\n",
            "<frozen importlib._bootstrap>:632: ResourceWarning: unclosed file <_io.BufferedReader name='/usr/local/lib/python3.10/dist-packages/cv2/cv2.abi3.so'>\n",
            "ResourceWarning: Enable tracemalloc to get the object allocation traceback\n",
            "<frozen importlib._bootstrap>:914: ImportWarning: APICoreClientInfoImportHook.find_spec() not found; falling back to find_module()\n",
            "<frozen importlib._bootstrap>:914: ImportWarning: _PyDriveImportHook.find_spec() not found; falling back to find_module()\n",
            "<frozen importlib._bootstrap>:914: ImportWarning: _OpenCVImportHook.find_spec() not found; falling back to find_module()\n",
            "<frozen importlib._bootstrap>:914: ImportWarning: _BokehImportHook.find_spec() not found; falling back to find_module()\n",
            "<frozen importlib._bootstrap>:914: ImportWarning: _AltairImportHook.find_spec() not found; falling back to find_module()\n",
            "<frozen importlib._bootstrap>:914: ImportWarning: APICoreClientInfoImportHook.find_spec() not found; falling back to find_module()\n",
            "<frozen importlib._bootstrap>:914: ImportWarning: _PyDriveImportHook.find_spec() not found; falling back to find_module()\n",
            "<frozen importlib._bootstrap>:914: ImportWarning: _OpenCVImportHook.find_spec() not found; falling back to find_module()\n",
            "<frozen importlib._bootstrap>:914: ImportWarning: _BokehImportHook.find_spec() not found; falling back to find_module()\n",
            "<frozen importlib._bootstrap>:914: ImportWarning: _AltairImportHook.find_spec() not found; falling back to find_module()\n",
            "<frozen importlib._bootstrap>:914: ImportWarning: APICoreClientInfoImportHook.find_spec() not found; falling back to find_module()\n",
            "<frozen importlib._bootstrap>:914: ImportWarning: _PyDriveImportHook.find_spec() not found; falling back to find_module()\n",
            "<frozen importlib._bootstrap>:914: ImportWarning: _OpenCVImportHook.find_spec() not found; falling back to find_module()\n",
            "<frozen importlib._bootstrap>:914: ImportWarning: _BokehImportHook.find_spec() not found; falling back to find_module()\n",
            "<frozen importlib._bootstrap>:914: ImportWarning: _AltairImportHook.find_spec() not found; falling back to find_module()\n",
            "<frozen importlib._bootstrap>:914: ImportWarning: APICoreClientInfoImportHook.find_spec() not found; falling back to find_module()\n",
            "<frozen importlib._bootstrap>:914: ImportWarning: _PyDriveImportHook.find_spec() not found; falling back to find_module()\n",
            "<frozen importlib._bootstrap>:914: ImportWarning: _OpenCVImportHook.find_spec() not found; falling back to find_module()\n",
            "<frozen importlib._bootstrap>:914: ImportWarning: _BokehImportHook.find_spec() not found; falling back to find_module()\n",
            "<frozen importlib._bootstrap>:914: ImportWarning: _AltairImportHook.find_spec() not found; falling back to find_module()\n",
            "<frozen importlib._bootstrap>:914: ImportWarning: APICoreClientInfoImportHook.find_spec() not found; falling back to find_module()\n",
            "<frozen importlib._bootstrap>:914: ImportWarning: _PyDriveImportHook.find_spec() not found; falling back to find_module()\n",
            "<frozen importlib._bootstrap>:914: ImportWarning: _OpenCVImportHook.find_spec() not found; falling back to find_module()\n",
            "<frozen importlib._bootstrap>:914: ImportWarning: _BokehImportHook.find_spec() not found; falling back to find_module()\n",
            "<frozen importlib._bootstrap>:914: ImportWarning: _AltairImportHook.find_spec() not found; falling back to find_module()\n",
            "/usr/local/lib/python3.10/dist-packages/torchmetrics/utilities/imports.py:24: DeprecationWarning: distutils Version classes are deprecated. Use packaging.version instead.\n",
            "  _PYTHON_LOWER_3_8 = LooseVersion(_PYTHON_VERSION) < LooseVersion(\"3.8\")\n"
          ]
        }
      ],
      "source": [
        "import os\n",
        "import os.path as osp\n",
        "import time\n",
        "\n",
        "import numpy as np\n",
        "import pygmo as pg\n",
        "from PIL import Image\n",
        "\n",
        "from lpf.data import load_model_dicts\n",
        "from lpf.data import load_custom_targets\n",
        "from lpf.solvers import SolverFactory\n",
        "from lpf.search import EvoSearch\n",
        "from lpf.objectives import ObjectiveFactory\n",
        "from lpf.models import ModelFactory\n",
        "from lpf.converters import ConverterFactory"
      ]
    },
    {
      "cell_type": "code",
      "execution_count": 6,
      "metadata": {
        "colab": {
          "base_uri": "https://localhost:8080/",
          "height": 91
        },
        "id": "5e18972c-e8ee-4c72-b08c-7cbad0a1d7bb",
        "outputId": "e369e6f2-0d52-43b0-b674-f08208540eab"
      },
      "outputs": [
        {
          "output_type": "stream",
          "name": "stderr",
          "text": [
            "/usr/local/lib/python3.10/dist-packages/ipykernel/ipkernel.py:283: DeprecationWarning: `should_run_async` will not call `transform_cell` automatically in the future. Please pass the result to `transformed_cell` argument and any exception that happen during thetransform in `preprocessing_exc_tuple` in IPython 7.17 and above.\n",
            "  and should_run_async(code)\n"
          ]
        },
        {
          "output_type": "execute_result",
          "data": {
            "text/plain": [
              "'/content/lpf_upper'"
            ],
            "application/vnd.google.colaboratory.intrinsic+json": {
              "type": "string"
            }
          },
          "metadata": {},
          "execution_count": 6
        }
      ],
      "source": [
        "LPF_REPO_HOME = osp.join(osp.abspath(\"..\"), \"lpf_upper\")\n",
        "LPF_REPO_HOME"
      ]
    },
    {
      "cell_type": "code",
      "execution_count": 7,
      "metadata": {
        "id": "2281eff9-d6cf-40fe-917a-e0b67ca0491c"
      },
      "outputs": [],
      "source": [
        "# Create a model.\n",
        "dx = 0.1\n",
        "width = 128\n",
        "height = 128\n",
        "n_init_pts = 25\n",
        "\n",
        "model = ModelFactory.create(\n",
        "    name=\"Liaw\",\n",
        "    n_init_pts=n_init_pts,\n",
        "    width=width,\n",
        "    height=height,\n",
        "    dx=dx\n",
        ")"
      ]
    },
    {
      "cell_type": "code",
      "execution_count": 8,
      "metadata": {
        "id": "86be0903-2d28-40ba-a76d-e88db8f8c197"
      },
      "outputs": [],
      "source": [
        "# Create a solver.\n",
        "dt = 0.01\n",
        "n_iters = 500000\n",
        "solver = SolverFactory.create(name=\"Euler\", dt=dt, n_iters=n_iters)"
      ]
    },
    {
      "cell_type": "code",
      "execution_count": 9,
      "metadata": {
        "id": "0d934612-74e0-4057-aec4-b26d6a036ab9"
      },
      "outputs": [],
      "source": [
        "# Create a converter.\n",
        "converter = ConverterFactory.create(\"LiawInitializer\")"
      ]
    },
    {
      "cell_type": "code",
      "execution_count": 10,
      "metadata": {
        "colab": {
          "base_uri": "https://localhost:8080/"
        },
        "id": "483d183c-4ccc-4942-a3fb-95cc5d59ce29",
        "outputId": "4df0ff2e-4b6e-4ff5-9a38-a89e79917d77"
      },
      "outputs": [
        {
          "output_type": "stream",
          "name": "stdout",
          "text": [
            "[OBJECTIVE DEVICE] MeanMeanSquareError: cpu\n",
            "[OBJECTIVE DEVICE] MeanColorProportion: cpu\n",
            "[OBJECTIVE DEVICE] MeanVgg16PerceptualLoss: cuda:0\n"
          ]
        },
        {
          "output_type": "stream",
          "name": "stderr",
          "text": [
            "Downloading: \"https://download.pytorch.org/models/vgg16-397923af.pth\" to /root/.cache/torch/hub/checkpoints/vgg16-397923af.pth\n",
            "100%|██████████| 528M/528M [00:02<00:00, 237MB/s]\n"
          ]
        },
        {
          "output_type": "stream",
          "name": "stdout",
          "text": [
            "[OBJECTIVE DEVICE] MeanLearnedPerceptualImagePatchSimilarity:vgg: cuda:0\n",
            "[OBJECTIVE DEVICE] MeanLearnedPerceptualImagePatchSimilarity:alex: cuda:0\n"
          ]
        },
        {
          "output_type": "stream",
          "name": "stderr",
          "text": [
            "Downloading: \"https://download.pytorch.org/models/alexnet-owt-7be5be79.pth\" to /root/.cache/torch/hub/checkpoints/alexnet-owt-7be5be79.pth\n",
            "100%|██████████| 233M/233M [00:00<00:00, 288MB/s]\n"
          ]
        }
      ],
      "source": [
        "# Create objectives.\n",
        "obj_config = [\n",
        "    ['MeanMeanSquareError', '1e-1', 'cpu'], #cpu\n",
        "    ['MeanColorProportion', '1e0', 'cpu'], #cpu\n",
        "    ['MeanVgg16PerceptualLoss', '1e-4', 'cuda:0'], #cuda:0\n",
        "    ['MeanLearnedPerceptualImagePatchSimilarity:vgg', '1.5e1', 'cuda:0'], #cuda:0\n",
        "    ['MeanLearnedPerceptualImagePatchSimilarity:alex', '4e0', 'cuda:0']  #cuda:0\n",
        "]\n",
        "\n",
        "# todo change conf to gpu\n",
        "\n",
        "objectives = ObjectiveFactory.create(obj_config)"
      ]
    },
    {
      "cell_type": "code",
      "execution_count": 11,
      "metadata": {
        "colab": {
          "base_uri": "https://localhost:8080/",
          "height": 161
        },
        "id": "f0a40ee5-1b9b-4c57-bae3-b97d5939052b",
        "outputId": "916f8afd-fa08-460f-f6b2-c39121f2be1e"
      },
      "outputs": [
        {
          "output_type": "stream",
          "name": "stdout",
          "text": [
            "[TARGET] spectabilis02.png has been added...\n"
          ]
        },
        {
          "output_type": "display_data",
          "data": {
            "text/plain": [
              "<PIL.Image.Image image mode=RGB size=104x126>"
            ],
            "image/png": "[encoded data removed]"
          },
          "metadata": {}
        }
      ],
      "source": [
        "# Load the target laybirds.\n",
        "targets = load_custom_targets(\"lpf/data/haxyridis/photo\", \"spectabilis\")\n",
        "\n",
        "for img in targets:\n",
        "    display(img)\n"
      ]
    },
    {
      "cell_type": "code",
      "execution_count": 12,
      "metadata": {
        "id": "80f43f97-d841-4d3d-8ba7-3032d6aa419a"
      },
      "outputs": [],
      "source": [
        "# Create an evolutionary search problem.\n",
        "droot_output = osp.join(\"./output\")\n",
        "\n",
        "search = EvoSearch(model=model,\n",
        "                   solver=solver,\n",
        "                   converter=converter,\n",
        "                   targets=targets,\n",
        "                   objectives=objectives,\n",
        "                   droot_output=droot_output)\n",
        "\n",
        "prob = pg.problem(search)"
      ]
    },
    {
      "cell_type": "code",
      "source": [
        "print(droot_output)"
      ],
      "metadata": {
        "colab": {
          "base_uri": "https://localhost:8080/"
        },
        "id": "BxTepPjyXjNg",
        "outputId": "d3831a38-4c14-4252-b0a8-18fe9fb362de"
      },
      "execution_count": 13,
      "outputs": [
        {
          "output_type": "stream",
          "name": "stdout",
          "text": [
            "./output\n"
          ]
        }
      ]
    },
    {
      "cell_type": "code",
      "execution_count": 14,
      "metadata": {
        "id": "0f50f49f-464c-42dc-9793-eb097c99c7ac"
      },
      "outputs": [],
      "source": [
        "dpath_init_pop = osp.join(LPF_REPO_HOME, \"population\", \"init_pop_axyridis\")\n",
        "model_dicts = load_model_dicts(dpath_init_pop)"
      ]
    },
    {
      "cell_type": "code",
      "execution_count": 19,
      "metadata": {
        "colab": {
          "base_uri": "https://localhost:8080/"
        },
        "id": "68fe61f3-2d4f-42c8-a6a4-8fcea1fa6781",
        "outputId": "563ef7a9-1cf2-4397-bdd3-21903525a23c"
      },
      "outputs": [
        {
          "output_type": "stream",
          "name": "stdout",
          "text": [
            "[DECISION VECTOR #1]\n",
            " [ -3.30103    -1.1249387  -0.7447275  -1.5415251  -0.69897    -3.\n",
            "  -1.60206    -1.09691     0.30103     0.         40.          6.\n",
            "  40.         58.         40.         50.          6.         70.\n",
            "  40.         90.         50.         10.         50.         26.\n",
            "  50.         50.         54.         70.         54.        103.\n",
            "  60.         10.          9.         30.         39.         50.\n",
            "  60.         70.         60.         81.         74.         10.\n",
            "  70.         30.         94.         43.         70.         70.\n",
            "  70.         90.          0.          0.          0.          0.\n",
            "   0.          0.          0.          0.          0.          0.       ]\n",
            "[DECISION VECTOR #2]\n",
            " [ -3.30103    -1.1249387  -0.7447275  -1.5415251  -0.69897    -2.9699304\n",
            "  -1.60206    -1.09691     0.30103     0.         40.         34.\n",
            "  40.         58.         40.         50.          6.         70.\n",
            "  40.         90.         50.          5.         50.         17.\n",
            "  50.         50.         54.         70.         54.        103.\n",
            "  60.         10.          9.         26.         60.         50.\n",
            "  60.         70.         60.         26.         25.         10.\n",
            "  70.         30.         94.         43.         70.         70.\n",
            "  70.         95.          0.          0.          0.          0.\n",
            "   0.          0.          0.          0.          0.          0.       ]\n",
            "[POPULATION INITIALIZATION COMPLETED]\n",
            "- DURATION OF INITIALIZING POPULATION: 271.506 sec.\n",
            "Problem name: <class 'lpf.search.evosearch.EvoSearch'>\n",
            "\tC++ class name: pybind11::object\n",
            "\n",
            "\tGlobal dimension:\t\t\t60\n",
            "\tInteger dimension:\t\t\t0\n",
            "\tFitness dimension:\t\t\t1\n",
            "\tNumber of objectives:\t\t\t1\n",
            "\tEquality constraints dimension:\t\t0\n",
            "\tInequality constraints dimension:\t0\n",
            "\tLower bounds: [-4, -4, -2, -2, -4, ... ]\n",
            "\tUpper bounds: [0, 0, 2, 2, 0, ... ]\n",
            "\tHas batch fitness evaluation: false\n",
            "\n",
            "\tHas gradient: false\n",
            "\tUser implemented gradient sparsity: false\n",
            "\tHas hessians: false\n",
            "\tUser implemented hessians sparsity: false\n",
            "\n",
            "\tFitness evaluations: 2\n",
            "\n",
            "\tThread safety: none\n",
            "\n",
            "Population size: 2\n",
            "\n",
            "List of individuals: \n",
            "#0:\n",
            "\tID:\t\t\t7388909767300717811\n",
            "\tDecision vector:\t[-3.30103, -1.12494, -0.744727, -1.54153, -0.69897, ... ]\n",
            "\tFitness vector:\t\t[18.1983]\n",
            "#1:\n",
            "\tID:\t\t\t11290312272438700774\n",
            "\tDecision vector:\t[-3.30103, -1.12494, -0.744727, -1.54153, -0.69897, ... ]\n",
            "\tFitness vector:\t\t[18.6568]\n",
            "\n",
            "Champion decision vector: [-3.30103, -1.12494, -0.744727, -1.54153, -0.69897, ... ]\n",
            "Champion fitness: [18.1983]\n",
            "\n"
          ]
        }
      ],
      "source": [
        "t_beg = time.time()\n",
        "\n",
        "# Create the initial population.\n",
        "pop_size = 2  # We set population size = 16.\n",
        "pop = pg.population(prob)\n",
        "dvs = []\n",
        "\n",
        "# Initialize the population with axyridis subtype.\n",
        "for i, param_dict in enumerate(model_dicts):\n",
        "    if i >= pop_size:\n",
        "        break\n",
        "\n",
        "    dv = converter.to_dv(param_dict, n_init_pts)\n",
        "    dvs.append(dv)\n",
        "\n",
        "# Adding decision vectors incorporates evaluating the fitness score.\n",
        "for i, dv in enumerate(dvs):\n",
        "    print(f\"[DECISION VECTOR #{i+1}]\\n\", dv)\n",
        "\n",
        "    # pop.set_x(i, dv)\n",
        "    pop.push_back(dv)\n",
        "\n",
        "# end of for\n",
        "\n",
        "\n",
        "t_end = time.time()\n",
        "\n",
        "print(\"[POPULATION INITIALIZATION COMPLETED]\")\n",
        "print(\"- DURATION OF INITIALIZING POPULATION: %.3f sec.\"%(t_end - t_beg))\n",
        "print(pop)"
      ]
    },
    {
      "cell_type": "code",
      "source": [
        "# Lana debug: multiply individuals\n",
        "for i in range(6):\n",
        "  dvs.append(dv)\n",
        "  pop.push_back(dv)\n",
        "\n",
        "pop_size = pop_size + 6\n",
        "\n",
        "print(pop)"
      ],
      "metadata": {
        "id": "ZC2elUTwGqoc",
        "outputId": "f1dfe74b-ff89-4858-e8f5-182398965d6b",
        "colab": {
          "base_uri": "https://localhost:8080/"
        }
      },
      "execution_count": 22,
      "outputs": [
        {
          "output_type": "stream",
          "name": "stderr",
          "text": [
            "/usr/local/lib/python3.10/dist-packages/ipykernel/ipkernel.py:283: DeprecationWarning: `should_run_async` will not call `transform_cell` automatically in the future. Please pass the result to `transformed_cell` argument and any exception that happen during thetransform in `preprocessing_exc_tuple` in IPython 7.17 and above.\n",
            "  and should_run_async(code)\n"
          ]
        },
        {
          "output_type": "stream",
          "name": "stdout",
          "text": [
            "Problem name: <class 'lpf.search.evosearch.EvoSearch'>\n",
            "\tC++ class name: pybind11::object\n",
            "\n",
            "\tGlobal dimension:\t\t\t60\n",
            "\tInteger dimension:\t\t\t0\n",
            "\tFitness dimension:\t\t\t1\n",
            "\tNumber of objectives:\t\t\t1\n",
            "\tEquality constraints dimension:\t\t0\n",
            "\tInequality constraints dimension:\t0\n",
            "\tLower bounds: [-4, -4, -2, -2, -4, ... ]\n",
            "\tUpper bounds: [0, 0, 2, 2, 0, ... ]\n",
            "\tHas batch fitness evaluation: false\n",
            "\n",
            "\tHas gradient: false\n",
            "\tUser implemented gradient sparsity: false\n",
            "\tHas hessians: false\n",
            "\tUser implemented hessians sparsity: false\n",
            "\n",
            "\tFitness evaluations: 8\n",
            "\n",
            "\tThread safety: none\n",
            "\n",
            "Population size: 8\n",
            "\n",
            "List of individuals: \n",
            "#0:\n",
            "\tID:\t\t\t7388909767300717811\n",
            "\tDecision vector:\t[-3.30103, -1.12494, -0.744727, -1.54153, -0.69897, ... ]\n",
            "\tFitness vector:\t\t[18.1983]\n",
            "#1:\n",
            "\tID:\t\t\t11290312272438700774\n",
            "\tDecision vector:\t[-3.30103, -1.12494, -0.744727, -1.54153, -0.69897, ... ]\n",
            "\tFitness vector:\t\t[18.6568]\n",
            "#2:\n",
            "\tID:\t\t\t14169843145276482115\n",
            "\tDecision vector:\t[-3.30103, -1.12494, -0.744727, -1.54153, -0.69897, ... ]\n",
            "\tFitness vector:\t\t[18.6568]\n",
            "#3:\n",
            "\tID:\t\t\t9274716686691467751\n",
            "\tDecision vector:\t[-3.30103, -1.12494, -0.744727, -1.54153, -0.69897, ... ]\n",
            "\tFitness vector:\t\t[18.6568]\n",
            "#4:\n",
            "\tID:\t\t\t13137328786208776214\n",
            "\tDecision vector:\t[-3.30103, -1.12494, -0.744727, -1.54153, -0.69897, ... ]\n",
            "\tFitness vector:\t\t[18.6568]\n",
            "#5:\n",
            "\tID:\t\t\t7648503875721406649\n",
            "\tDecision vector:\t[-3.30103, -1.12494, -0.744727, -1.54153, -0.69897, ... ]\n",
            "\tFitness vector:\t\t[18.6568]\n",
            "#6:\n",
            "\tID:\t\t\t9346418124984406366\n",
            "\tDecision vector:\t[-3.30103, -1.12494, -0.744727, -1.54153, -0.69897, ... ]\n",
            "\tFitness vector:\t\t[18.6568]\n",
            "#7:\n",
            "\tID:\t\t\t10380421735931678151\n",
            "\tDecision vector:\t[-3.30103, -1.12494, -0.744727, -1.54153, -0.69897, ... ]\n",
            "\tFitness vector:\t\t[18.6568]\n",
            "\n",
            "Champion decision vector: [-3.30103, -1.12494, -0.744727, -1.54153, -0.69897, ... ]\n",
            "Champion fitness: [18.1983]\n",
            "\n"
          ]
        }
      ]
    },
    {
      "cell_type": "code",
      "execution_count": 23,
      "metadata": {
        "colab": {
          "base_uri": "https://localhost:8080/"
        },
        "id": "ade07147-4988-4005-a7a2-26560e60251b",
        "outputId": "a987a21d-9b9f-44b0-ab92-c270555a53e8"
      },
      "outputs": [
        {
          "output_type": "stream",
          "name": "stdout",
          "text": [
            "Island name: Multiprocessing island\n",
            "\tC++ class name: pybind11::object\n",
            "\n",
            "\tStatus: idle\n",
            "\n",
            "Extra info:\n",
            "\tUsing a process pool: yes\n",
            "\tNumber of processes in the pool: 8\n",
            "\n",
            "Algorithm: saDE: Self-adaptive Differential Evolution\n",
            "\n",
            "Problem: <class 'lpf.search.evosearch.EvoSearch'>\n",
            "\n",
            "Replacement policy: Fair replace\n",
            "\n",
            "Selection policy: Select best\n",
            "\n",
            "Population size: 8\n",
            "\tChampion decision vector: [-3.30103, -1.12494, -0.744727, -1.54153, -0.69897, ... ]\n",
            "\tChampion fitness: [18.1983]\n",
            "\n"
          ]
        }
      ],
      "source": [
        "# Create an evolutionary algorithm.\n",
        "n_procs = 8\n",
        "n_gen = 10000\n",
        "\n",
        "udi = pg.mp_island()\n",
        "udi.resize_pool(n_procs)\n",
        "\n",
        "algo = pg.algorithm(pg.sade(gen=1))\n",
        "isl = pg.island(algo=algo, pop=pop, udi=udi)\n",
        "print(isl)"
      ]
    },
    {
      "cell_type": "markdown",
      "source": [
        "### continue"
      ],
      "metadata": {
        "id": "ekrR3T58g5Uo"
      }
    },
    {
      "cell_type": "code",
      "source": [
        "# fix dill bug\n",
        "# https://stackoverflow.com/questions/31469707/changing-the-locale-preferred-encoding-in-python-3-in-windows\n",
        "import _locale\n",
        "_locale._getdefaultlocale = (lambda *args: ['en_US', 'utf8'])\n",
        "\n",
        "!ls {dpath_output}"
      ],
      "metadata": {
        "colab": {
          "base_uri": "https://localhost:8080/"
        },
        "id": "RmCvcOAC6slZ",
        "outputId": "f17a82c4-05cb-4feb-ee7a-85a1ece5d186"
      },
      "execution_count": 209,
      "outputs": [
        {
          "output_type": "stream",
          "name": "stdout",
          "text": [
            "model_1  models\n"
          ]
        }
      ]
    },
    {
      "cell_type": "code",
      "execution_count": null,
      "metadata": {
        "colab": {
          "base_uri": "https://localhost:8080/"
        },
        "id": "8d385172-7283-4d54-9366-5fdac36bcdea",
        "outputId": "7401f1ca-a03a-4a30-91ae-9d5df2345f1b"
      },
      "outputs": [
        {
          "output_type": "stream",
          "name": "stdout",
          "text": [
            "[EVOLUTION #1] Best objective: 18.198323 (149.812 sec.)\n"
          ]
        }
      ],
      "source": [
        "# Start searching.\n",
        "try:\n",
        "    for i in range(n_gen):\n",
        "        t_beg = time.time()\n",
        "        isl.evolve()\n",
        "        isl.wait_check()\n",
        "        t_end = time.time()\n",
        "\n",
        "        print(\"[EVOLUTION #%d] Best objective: %f (%.3f sec.)\"%(i + 1, pop.champion_f[0], t_end - t_beg))\n",
        "\n",
        "        # Save the best.\n",
        "        pop = isl.get_population()\n",
        "        search.save(\"best\", pop.champion_x, generation=i+1, fitness=pop.champion_f[0])\n",
        "\n",
        "        # Save the population.\n",
        "        arr_x = pop.get_x()\n",
        "        arr_f = pop.get_f()\n",
        "        for j in range(arr_x.shape[0]):\n",
        "            x = arr_x[j]\n",
        "            fitness = arr_f[j, 0]\n",
        "            search.save(\"pop\", x, generation=i+1, fitness=fitness)\n",
        "    # end of for\n",
        "except Exception as err:\n",
        "    print(err)\n",
        "    udi.shutdown_pool()\n",
        "    raise err\n",
        "\n",
        "\n",
        "print(\"[EVOLUTIONARY SEARCH COMPLETED]\")\n",
        "udi.shutdown_pool()"
      ]
    },
    {
      "cell_type": "code",
      "source": [
        "# try"
      ],
      "metadata": {
        "id": "UbKdLknB0LKD"
      },
      "execution_count": null,
      "outputs": []
    },
    {
      "cell_type": "markdown",
      "source": [
        "## Solve one parameter set\n",
        "\n",
        "From: Tutorial 1"
      ],
      "metadata": {
        "id": "lvuM4myFCofa"
      }
    },
    {
      "cell_type": "code",
      "execution_count": 103,
      "metadata": {
        "id": "24598302-24bb-4caf-b73a-7ad001bf28eb"
      },
      "outputs": [],
      "source": [
        "import os\n",
        "import os.path as osp\n",
        "from os.path import join as pjoin\n",
        "import time\n",
        "from datetime import datetime\n",
        "import json\n",
        "\n",
        "import numpy as np\n",
        "np.seterr(all='raise')\n",
        "from PIL import Image\n",
        "\n",
        "from lpf.initializers import LiawInitializer\n",
        "from lpf.models import LiawModel\n",
        "from lpf.solvers import EulerSolver, RungeKuttaSolver"
      ]
    },
    {
      "cell_type": "code",
      "execution_count": 167,
      "metadata": {
        "id": "2ad635c9-f1da-4db6-82d2-430d8a979d85"
      },
      "outputs": [],
      "source": [
        "batch_size = 1  # A single set of parameters\n",
        "device = \"cpu\" # cpu is usually much faster here # Device option: CPU or GPU\n",
        "\n",
        "# Time parameters\n",
        "dt = 0.01\n",
        "n_iters = 50000 #500000\n",
        "\n",
        "# Space parameters\n",
        "dx = 0.1\n",
        "width = 128\n",
        "height = 128\n",
        "shape = (height, width)"
      ]
    },
    {
      "cell_type": "code",
      "execution_count": 168,
      "metadata": {
        "id": "540ddb36-8eeb-4545-a296-cb15ab7bc096"
      },
      "outputs": [],
      "source": [
        "# Create the output directory.\n",
        "str_now = datetime.now().strftime('%Y%m%d-%H%M%S')\n",
        "dpath_output = pjoin(osp.abspath(\"./output\"), \"experiment_batch_%s\" % (str_now))\n",
        "os.makedirs(dpath_output, exist_ok=True)"
      ]
    },
    {
      "cell_type": "code",
      "execution_count": 169,
      "metadata": {
        "id": "dd3bba20-09d5-4b2c-82ff-1f11eaf0948f"
      },
      "outputs": [],
      "source": [
        "# Create a dict for parameters.\n",
        "param_dict = {\n",
        "    \"u0\": 2.0, \"v0\": 1.0,\n",
        "    \"Du\": 0.0005, \"Dv\": 0.075,\n",
        "    \"ru\": 0.18, \"rv\": 0.02874,\n",
        "    \"su\": 0.001, \"sv\": 0.025,\n",
        "    \"k\": 0.084,\n",
        "    \"mu\": 0.08\n",
        "}"
      ]
    },
    {
      "cell_type": "code",
      "execution_count": 170,
      "metadata": {
        "id": "e8490974-7289-4b68-9855-399f8196c508"
      },
      "outputs": [],
      "source": [
        "# In this example, we use random positions for initializing u with u0.\n",
        "for i in range(25):\n",
        "    param_dict[\"init_pts_%d\"%(i+1)] = (np.random.randint(0, height), np.random.randint(0, width))"
      ]
    },
    {
      "cell_type": "code",
      "execution_count": 171,
      "metadata": {
        "id": "4fe30b4a-47a7-44bf-ba78-9cd26602b99f",
        "colab": {
          "base_uri": "https://localhost:8080/"
        },
        "outputId": "a3676993-16f4-4b75-9edf-cd989269ce87"
      },
      "outputs": [
        {
          "output_type": "execute_result",
          "data": {
            "text/plain": [
              "{'u0': 2.0,\n",
              " 'v0': 1.0,\n",
              " 'Du': 0.0005,\n",
              " 'Dv': 0.075,\n",
              " 'ru': 0.18,\n",
              " 'rv': 0.02874,\n",
              " 'su': 0.001,\n",
              " 'sv': 0.025,\n",
              " 'k': 0.084,\n",
              " 'mu': 0.08,\n",
              " 'init_pts_1': (43, 16),\n",
              " 'init_pts_2': (51, 117),\n",
              " 'init_pts_3': (44, 59),\n",
              " 'init_pts_4': (25, 22),\n",
              " 'init_pts_5': (69, 36),\n",
              " 'init_pts_6': (11, 62),\n",
              " 'init_pts_7': (7, 33),\n",
              " 'init_pts_8': (14, 101),\n",
              " 'init_pts_9': (48, 69),\n",
              " 'init_pts_10': (77, 7),\n",
              " 'init_pts_11': (109, 71),\n",
              " 'init_pts_12': (10, 49),\n",
              " 'init_pts_13': (20, 71),\n",
              " 'init_pts_14': (35, 123),\n",
              " 'init_pts_15': (104, 15),\n",
              " 'init_pts_16': (84, 54),\n",
              " 'init_pts_17': (75, 36),\n",
              " 'init_pts_18': (16, 67),\n",
              " 'init_pts_19': (39, 71),\n",
              " 'init_pts_20': (85, 80),\n",
              " 'init_pts_21': (3, 123),\n",
              " 'init_pts_22': (116, 30),\n",
              " 'init_pts_23': (40, 75),\n",
              " 'init_pts_24': (97, 100),\n",
              " 'init_pts_25': (40, 26)}"
            ]
          },
          "metadata": {},
          "execution_count": 171
        }
      ],
      "source": [
        "param_dict"
      ]
    },
    {
      "cell_type": "code",
      "execution_count": 172,
      "metadata": {
        "id": "28b297a1-a4d5-4837-92df-787f7c24e0cd"
      },
      "outputs": [],
      "source": [
        "model_dicts = []\n",
        "model_dicts.append(param_dict)"
      ]
    },
    {
      "cell_type": "code",
      "execution_count": 173,
      "metadata": {
        "id": "b099db95-f779-4f2e-962b-fa28fdf0fb21"
      },
      "outputs": [],
      "source": [
        "# Create the Liaw initializer.\n",
        "initializer = LiawInitializer()\n",
        "initializer.update(model_dicts)\n",
        "params = LiawModel.parse_params(model_dicts)"
      ]
    },
    {
      "cell_type": "code",
      "execution_count": 174,
      "metadata": {
        "id": "0248cf99-f281-409e-bf5f-7e1b63a10a64"
      },
      "outputs": [],
      "source": [
        "# Create the Liaw model.\n",
        "model = LiawModel(\n",
        "    initializer=initializer,\n",
        "    params=params,\n",
        "    dx=dx,\n",
        "    width=width,\n",
        "    height=height,\n",
        "    device=device\n",
        ")"
      ]
    },
    {
      "cell_type": "code",
      "execution_count": 175,
      "metadata": {
        "tags": [],
        "id": "1a82d0ad-db43-45dd-a8a8-b7b5314c0d14",
        "outputId": "f5728801-edec-43db-b788-b8d52b2b03c6",
        "colab": {
          "base_uri": "https://localhost:8080/"
        }
      },
      "outputs": [
        {
          "output_type": "stream",
          "name": "stdout",
          "text": [
            "- [Iteration #1] elapsed time: 1.11496e-02 sec.\n",
            "- [Iteration #10000] elapsed time: 1.15100e+01 sec.\n",
            "- [Iteration #20000] elapsed time: 1.32646e+01 sec.\n",
            "- [Iteration #30000] elapsed time: 1.11876e+01 sec.\n",
            "- [Iteration #40000] elapsed time: 1.04345e+01 sec.\n",
            "- [Iteration #50000] elapsed time: 1.09830e+01 sec.\n",
            "- [Duration] : 5.75552e+01 sec.\n",
            "Elapsed time: 57.556372 sec.\n"
          ]
        }
      ],
      "source": [
        "# Create the Euler solver.\n",
        "solver = EulerSolver()\n",
        "\n",
        "t_beg = time.time()\n",
        "\n",
        "solver.solve(\n",
        "    model=model,\n",
        "    dt=dt,\n",
        "    n_iters=n_iters,\n",
        "    period_output=10000,\n",
        "    dpath_model=dpath_output,\n",
        "    dpath_ladybird=dpath_output,\n",
        "    dpath_pattern=dpath_output,\n",
        "    verbose=1\n",
        ")\n",
        "\n",
        "t_end = time.time()\n",
        "\n",
        "print(\"Elapsed time: %f sec.\" % (t_end - t_beg))"
      ]
    },
    {
      "cell_type": "code",
      "execution_count": 146,
      "metadata": {
        "id": "d6222199-40ce-4045-9bc5-4d74d7caca14",
        "outputId": "8a738648-4af1-4a47-eede-fc730964b905",
        "colab": {
          "base_uri": "https://localhost:8080/"
        }
      },
      "outputs": [
        {
          "output_type": "stream",
          "name": "stdout",
          "text": [
            "model_1  models\n"
          ]
        }
      ],
      "source": [
        "# Sub-directories in the output directory\n",
        "import locale\n",
        "locale.getpreferredencoding = lambda: \"UTF-8\"\n",
        "\n",
        "!ls {dpath_output}"
      ]
    },
    {
      "cell_type": "code",
      "execution_count": 147,
      "metadata": {
        "id": "5c621097-2599-4c34-9f62-ef8f0f9748e2",
        "outputId": "bcc21455-a8fe-438f-a256-e7958781fc66",
        "colab": {
          "base_uri": "https://localhost:8080/",
          "height": 35
        }
      },
      "outputs": [
        {
          "output_type": "execute_result",
          "data": {
            "text/plain": [
              "'/content/lpf_upper/output/experiment_batch_20230821-053202/model_1'"
            ],
            "application/vnd.google.colaboratory.intrinsic+json": {
              "type": "string"
            }
          },
          "metadata": {},
          "execution_count": 147
        }
      ],
      "source": [
        "# Generated images\n",
        "dpath_images = pjoin(dpath_output, \"model_1\")\n",
        "dpath_images"
      ]
    },
    {
      "cell_type": "code",
      "execution_count": 148,
      "metadata": {
        "id": "8cb6fabe-35d7-4c38-99a2-3dc3d1d08c9c",
        "outputId": "18e0ec32-4dc0-4810-bd6d-c831934f6759",
        "colab": {
          "base_uri": "https://localhost:8080/"
        }
      },
      "outputs": [
        {
          "output_type": "stream",
          "name": "stdout",
          "text": [
            "ladybird_00001.png  ladybird_30000.png\tpattern_00001.png  pattern_30000.png\n",
            "ladybird_10000.png  ladybird_40000.png\tpattern_10000.png  pattern_40000.png\n",
            "ladybird_20000.png  ladybird_50000.png\tpattern_20000.png  pattern_50000.png\n"
          ]
        }
      ],
      "source": [
        "!ls {dpath_images}"
      ]
    },
    {
      "cell_type": "code",
      "execution_count": 149,
      "metadata": {
        "id": "5a8c438e-b998-45ce-bf7f-c3375ac15640",
        "outputId": "c75cbdac-b8ef-4d26-fb9e-c6d3b0193761",
        "colab": {
          "base_uri": "https://localhost:8080/",
          "height": 145
        }
      },
      "outputs": [
        {
          "output_type": "execute_result",
          "data": {
            "text/plain": [
              "<PIL.PngImagePlugin.PngImageFile image mode=RGB size=128x128>"
            ],
            "image/png": "[encoded data removed]"
          },
          "metadata": {},
          "execution_count": 149
        }
      ],
      "source": [
        "# Show the pattern at last.\n",
        "img_pattern = Image.open(pjoin(dpath_images, \"pattern_50000.png\"))\n",
        "img_pattern"
      ]
    },
    {
      "cell_type": "code",
      "execution_count": 150,
      "metadata": {
        "id": "065b5101-6a58-4d74-a729-2ddc0e65b3f0",
        "outputId": "c1d09081-9f1a-4e9d-94a5-ff0fd39d89c4",
        "colab": {
          "base_uri": "https://localhost:8080/",
          "height": 143
        }
      },
      "outputs": [
        {
          "output_type": "execute_result",
          "data": {
            "text/plain": [
              "<PIL.PngImagePlugin.PngImageFile image mode=RGBA size=104x126>"
            ],
            "image/png": "[encoded data removed]"
          },
          "metadata": {},
          "execution_count": 150
        }
      ],
      "source": [
        "img_ladybird = Image.open(pjoin(dpath_images, \"ladybird_50000.png\"))\n",
        "img_ladybird"
      ]
    },
    {
      "cell_type": "code",
      "execution_count": 151,
      "metadata": {
        "id": "3874ad9c-696b-47f5-b734-be78103320f1",
        "outputId": "0423a81b-833b-46ad-b8ce-1a963d60d601",
        "colab": {
          "base_uri": "https://localhost:8080/"
        }
      },
      "outputs": [
        {
          "output_type": "stream",
          "name": "stdout",
          "text": [
            "model_1.json\n"
          ]
        }
      ],
      "source": [
        "# Model file\n",
        "!ls {pjoin(dpath_output, \"models\")}"
      ]
    },
    {
      "cell_type": "code",
      "execution_count": 152,
      "metadata": {
        "id": "b8853816-ed11-40c2-b1ad-1d39569cee88",
        "outputId": "329b80da-71f5-4d17-b6f2-0623ae893cab",
        "colab": {
          "base_uri": "https://localhost:8080/"
        }
      },
      "outputs": [
        {
          "output_type": "execute_result",
          "data": {
            "text/plain": [
              "{'model': 'LiawModel',\n",
              " 'width': 128,\n",
              " 'height': 128,\n",
              " 'dx': 0.1,\n",
              " 'thr_color': 0.5,\n",
              " 'color_u': [5, 5, 5],\n",
              " 'color_v': [231, 79, 3],\n",
              " 'initializer': 'LiawInitializer',\n",
              " 'u0': 2.0,\n",
              " 'v0': 1.0,\n",
              " 'n_init_pts': 25,\n",
              " 'init_pts_0': [3, 65],\n",
              " 'init_pts_1': [92, 53],\n",
              " 'init_pts_2': [122, 0],\n",
              " 'init_pts_3': [69, 33],\n",
              " 'init_pts_4': [25, 76],\n",
              " 'init_pts_5': [10, 77],\n",
              " 'init_pts_6': [89, 39],\n",
              " 'init_pts_7': [103, 58],\n",
              " 'init_pts_8': [61, 13],\n",
              " 'init_pts_9': [87, 44],\n",
              " 'init_pts_10': [52, 65],\n",
              " 'init_pts_11': [45, 103],\n",
              " 'init_pts_12': [76, 78],\n",
              " 'init_pts_13': [124, 8],\n",
              " 'init_pts_14': [26, 73],\n",
              " 'init_pts_15': [42, 66],\n",
              " 'init_pts_16': [52, 36],\n",
              " 'init_pts_17': [57, 31],\n",
              " 'init_pts_18': [44, 0],\n",
              " 'init_pts_19': [71, 112],\n",
              " 'init_pts_20': [65, 54],\n",
              " 'init_pts_21': [74, 123],\n",
              " 'init_pts_22': [71, 18],\n",
              " 'init_pts_23': [78, 104],\n",
              " 'init_pts_24': [52, 79],\n",
              " 'solver': 'EulerSolver',\n",
              " 'dt': 0.01,\n",
              " 'n_iters': 50000,\n",
              " 'Du': 0.0005000000237487257,\n",
              " 'Dv': 0.07500000298023224,\n",
              " 'ru': 0.18000000715255737,\n",
              " 'rv': 0.02873999997973442,\n",
              " 'k': 0.08399999886751175,\n",
              " 'su': 0.0010000000474974513,\n",
              " 'sv': 0.02500000037252903,\n",
              " 'mu': 0.07999999821186066}"
            ]
          },
          "metadata": {},
          "execution_count": 152
        }
      ],
      "source": [
        "fpath_model = pjoin(dpath_output, \"models\", \"model_1.json\")\n",
        "with open(fpath_model, \"rt\") as fin:\n",
        "    model_dict = json.load(fin)\n",
        "\n",
        "model_dict"
      ]
    },
    {
      "cell_type": "code",
      "execution_count": 153,
      "metadata": {
        "id": "7f431523-49f1-4fdb-abc3-fc977a0136c9",
        "colab": {
          "base_uri": "https://localhost:8080/"
        },
        "outputId": "676d341c-9161-47bc-8b53-b793c0ac5135"
      },
      "outputs": [
        {
          "output_type": "stream",
          "name": "stderr",
          "text": [
            "<frozen importlib._bootstrap>:914: ImportWarning: APICoreClientInfoImportHook.find_spec() not found; falling back to find_module()\n",
            "<frozen importlib._bootstrap>:914: ImportWarning: _PyDriveImportHook.find_spec() not found; falling back to find_module()\n",
            "<frozen importlib._bootstrap>:914: ImportWarning: _OpenCVImportHook.find_spec() not found; falling back to find_module()\n",
            "<frozen importlib._bootstrap>:914: ImportWarning: _BokehImportHook.find_spec() not found; falling back to find_module()\n",
            "<frozen importlib._bootstrap>:914: ImportWarning: _AltairImportHook.find_spec() not found; falling back to find_module()\n"
          ]
        }
      ],
      "source": [
        "from lpf.visualization import merge_single_timeseries"
      ]
    },
    {
      "cell_type": "code",
      "source": [
        "!ls /usr/share/fonts/truetype/liberation"
      ],
      "metadata": {
        "colab": {
          "base_uri": "https://localhost:8080/"
        },
        "id": "3h8LZkghlbmH",
        "outputId": "b5505ede-7073-4089-aa62-9462f88dbe03"
      },
      "execution_count": 160,
      "outputs": [
        {
          "output_type": "stream",
          "name": "stdout",
          "text": [
            "LiberationMono-BoldItalic.ttf\t     LiberationSansNarrow-Bold.ttf\n",
            "LiberationMono-Bold.ttf\t\t     LiberationSansNarrow-Italic.ttf\n",
            "LiberationMono-Italic.ttf\t     LiberationSansNarrow-Regular.ttf\n",
            "LiberationMono-Regular.ttf\t     LiberationSans-Regular.ttf\n",
            "LiberationSans-BoldItalic.ttf\t     LiberationSerif-BoldItalic.ttf\n",
            "LiberationSans-Bold.ttf\t\t     LiberationSerif-Bold.ttf\n",
            "LiberationSans-Italic.ttf\t     LiberationSerif-Italic.ttf\n",
            "LiberationSansNarrow-BoldItalic.ttf  LiberationSerif-Regular.ttf\n"
          ]
        },
        {
          "output_type": "stream",
          "name": "stderr",
          "text": [
            "/usr/local/lib/python3.10/dist-packages/ipykernel/ipkernel.py:283: DeprecationWarning: `should_run_async` will not call `transform_cell` automatically in the future. Please pass the result to `transformed_cell` argument and any exception that happen during thetransform in `preprocessing_exc_tuple` in IPython 7.17 and above.\n",
            "  and should_run_async(code)\n"
          ]
        }
      ]
    },
    {
      "cell_type": "code",
      "source": [
        "from PIL import ImageFont\n",
        "\n",
        "\n",
        "font = ImageFont.truetype(\"/usr/share/fonts/truetype/liberation/LiberationMono-Regular.ttf\", 10, encoding=\"UTF-8\")"
      ],
      "metadata": {
        "id": "hIimY7qom0FB"
      },
      "execution_count": 163,
      "outputs": []
    },
    {
      "cell_type": "code",
      "execution_count": 165,
      "metadata": {
        "id": "5ce67249-fea4-4877-8010-f03bdd4e8af9",
        "colab": {
          "base_uri": "https://localhost:8080/",
          "height": 112
        },
        "outputId": "1681821e-ce3c-4a84-f3b9-6fbe4dc975d8"
      },
      "outputs": [
        {
          "output_type": "execute_result",
          "data": {
            "text/plain": [
              "<PIL.Image.Image image mode=RGBA size=532x95>"
            ],
            "image/png": "[encoded data removed]"
          },
          "metadata": {},
          "execution_count": 165
        }
      ],
      "source": [
        "# Errors happen here because of font\n",
        "# Visualize the temporal evolution of ladybird by merging images.\n",
        "img_ladybirds = merge_single_timeseries(dpath_input=dpath_images,\n",
        "                                        n_cols=10,\n",
        "                                        infile_header=\"ladybird\",\n",
        "                                        ratio_resize=0.5,\n",
        "                                        text_format=\"t = \",\n",
        "                                        font_size=10,\n",
        "                                        font=font,\n",
        "                                        text_margin_ratio=.1)\n",
        "img_ladybirds"
      ]
    },
    {
      "cell_type": "code",
      "execution_count": 166,
      "metadata": {
        "id": "53184335-556c-43cb-a53d-e4b20a1e6263"
      },
      "outputs": [],
      "source": [
        "img_ladybirds.save(pjoin(dpath_output, \"output_ladybird.png\"))"
      ]
    },
    {
      "cell_type": "code",
      "execution_count": null,
      "metadata": {
        "id": "a0536b25-0181-4c54-8930-bbb080e1efbd",
        "outputId": "b866c3e2-71a5-413a-c35f-9244a4c96a95"
      },
      "outputs": [
        {
          "data": {
            "image/png": "[encoded data removed]",
            "text/plain": [
              "<PIL.Image.Image image mode=RGBA size=960x576>"
            ]
          },
          "execution_count": 21,
          "metadata": {},
          "output_type": "execute_result"
        }
      ],
      "source": [
        "img_patterns = merge_single_timeseries(dpath_input=dpath_images,\n",
        "                                       n_cols=10,\n",
        "                                       infile_header=\"pattern\",\n",
        "                                       ratio_resize=0.5,\n",
        "                                       text_format=\"t = \",\n",
        "                                       font_size=10,\n",
        "                                       text_margin_ratio=.1)\n",
        "img_patterns"
      ]
    },
    {
      "cell_type": "code",
      "execution_count": null,
      "metadata": {
        "id": "1c7e8e4c-15b2-432d-93eb-9d2a996899c7"
      },
      "outputs": [],
      "source": [
        "img_patterns.save(pjoin(dpath_output, \"output_pattern.png\"))"
      ]
    },
    {
      "cell_type": "markdown",
      "source": [
        "## Make a ladybug from parameters\n",
        "\n",
        "From: tutorials/tutorial02_visualize_single_morph.ipynb"
      ],
      "metadata": {
        "id": "rBKPFpGMkiQ_"
      }
    },
    {
      "cell_type": "code",
      "source": [
        "# might not be necessary\n",
        "import os\n",
        "os.chdir('/content/lpf_upper')"
      ],
      "metadata": {
        "colab": {
          "base_uri": "https://localhost:8080/"
        },
        "id": "8AEbbQe56BEF",
        "outputId": "886e37f8-9ca2-4bad-8b38-88d8e744f2d9"
      },
      "execution_count": 19,
      "outputs": [
        {
          "output_type": "stream",
          "name": "stdout",
          "text": [
            "initializerfactory.py  \u001b[0m\u001b[01;34m__pycache__\u001b[0m/\n",
            "initializer.py         twocomponentconstantinitializer.py\n",
            "__init__.py            twocomponentinitializer.py\n",
            "liawinitializer.py\n"
          ]
        }
      ]
    },
    {
      "cell_type": "code",
      "execution_count": 20,
      "metadata": {
        "id": "2wsoDWKQCofg"
      },
      "outputs": [],
      "source": [
        "import os\n",
        "import os.path as osp\n",
        "from os.path import join as pjoin\n",
        "import time\n",
        "from datetime import datetime\n",
        "\n",
        "import numpy as np\n",
        "np.seterr(all='raise')\n",
        "\n",
        "from lpf.initializers import LiawInitializer\n",
        "from lpf.models import LiawModel\n",
        "from lpf.solvers import EulerSolver, RungeKuttaSolver"
      ]
    },
    {
      "cell_type": "code",
      "execution_count": 21,
      "metadata": {
        "id": "guEwVteFCofg"
      },
      "outputs": [],
      "source": [
        "batch_size = 1  # A single set of parameters\n",
        "# TODO debug gpu option\n",
        "device = \"gpu\"  # Device option: CPU or GPU\n",
        "\n",
        "# Time parameters\n",
        "dt = 0.01\n",
        "n_iters = 10000 # 1000000\n",
        "\n",
        "# Space parameters\n",
        "dx = 0.1\n",
        "width = 128\n",
        "height = 128\n",
        "shape = (height, width)"
      ]
    },
    {
      "cell_type": "code",
      "execution_count": 22,
      "metadata": {
        "id": "OOZ_w2OFCofg"
      },
      "outputs": [],
      "source": [
        "# Create the output directory.\n",
        "str_now = datetime.now().strftime('%Y%m%d-%H%M%S')\n",
        "dpath_output = pjoin(osp.abspath(\"./output\"), \"experiment_batch_%s\" % (str_now))\n",
        "os.makedirs(dpath_output, exist_ok=True)"
      ]
    },
    {
      "cell_type": "code",
      "execution_count": 23,
      "metadata": {
        "id": "auEcsHALCofp"
      },
      "outputs": [],
      "source": [
        "# Create a dict for parameters.\n",
        "param_dict =  {\n",
        " \"u0\": 1.9530066532565284,\n",
        " \"v0\": 2.3936837749803437,\n",
        " \"Du\": 0.000497858463742147,\n",
        " \"Dv\": 0.07796387325338522,\n",
        " \"ru\": 0.1829963268369453,\n",
        " \"rv\": 0.10001543043288767,\n",
        " \"k\": 0.15824185494975906,\n",
        " \"su\": 0.0004593283228100326,\n",
        " \"sv\": 0.021391505467616145,\n",
        " \"mu\": 0.09084717479481387\n",
        "}"
      ]
    },
    {
      "cell_type": "code",
      "execution_count": 24,
      "metadata": {
        "id": "-pqlMDsrCofp"
      },
      "outputs": [],
      "source": [
        "# In this example, we use 20 positions for initializing u with u0.\n",
        "param_dict[\"init_pts_0\"] = (20, 81)\n",
        "param_dict[\"init_pts_1\"] = (16, 27)\n",
        "param_dict[\"init_pts_2\"] = (85, 93)\n",
        "param_dict[\"init_pts_3\"] = (28, 39)\n",
        "param_dict[\"init_pts_4\"] = (119, 77)\n",
        "param_dict[\"init_pts_5\"] = (105, 39)\n",
        "param_dict[\"init_pts_6\"] = (68, 92)\n",
        "param_dict[\"init_pts_7\"] = (57, 46)\n",
        "param_dict[\"init_pts_8\"] = (53, 82)\n",
        "param_dict[\"init_pts_9\"] = (73, 78)\n",
        "param_dict[\"init_pts_10\"] = (25, 8)\n",
        "param_dict[\"init_pts_11\"] = (98, 23)\n",
        "param_dict[\"init_pts_12\"] = (74, 46)\n",
        "param_dict[\"init_pts_13\"] = (117, 45)\n",
        "param_dict[\"init_pts_14\"] = (58, 65)\n",
        "param_dict[\"init_pts_15\"] = (70, 75)\n",
        "param_dict[\"init_pts_16\"] = (71, 108)\n",
        "param_dict[\"init_pts_17\"] = (106, 36)\n",
        "param_dict[\"init_pts_18\"] = (125, 72)\n",
        "param_dict[\"init_pts_19\"] = (105, 84)"
      ]
    },
    {
      "cell_type": "code",
      "execution_count": null,
      "metadata": {
        "id": "LgS-yi1BCofp"
      },
      "outputs": [],
      "source": [
        "param_dict"
      ]
    },
    {
      "cell_type": "code",
      "execution_count": 26,
      "metadata": {
        "id": "dUW75p-2Cofp"
      },
      "outputs": [],
      "source": [
        "model_dicts = []\n",
        "model_dicts.append(param_dict)"
      ]
    },
    {
      "cell_type": "code",
      "execution_count": 27,
      "metadata": {
        "id": "zKklAGJQCofq"
      },
      "outputs": [],
      "source": [
        "# Create the Liaw initializer.\n",
        "initializer = LiawInitializer()\n",
        "initializer.update(model_dicts)\n",
        "params = LiawModel.parse_params(model_dicts)"
      ]
    },
    {
      "cell_type": "code",
      "execution_count": 28,
      "metadata": {
        "id": "kAED-OX-Cofq",
        "colab": {
          "base_uri": "https://localhost:8080/",
          "height": 399
        },
        "outputId": "bed1fbef-bab6-422a-ea93-7eae1b668857"
      },
      "outputs": [
        {
          "output_type": "error",
          "ename": "ValueError",
          "evalue": "ignored",
          "traceback": [
            "\u001b[0;31m---------------------------------------------------------------------------\u001b[0m",
            "\u001b[0;31mValueError\u001b[0m                                Traceback (most recent call last)",
            "\u001b[0;32m<ipython-input-28-42ea97fa245f>\u001b[0m in \u001b[0;36m<cell line: 2>\u001b[0;34m()\u001b[0m\n\u001b[1;32m      1\u001b[0m \u001b[0;31m# Create the Liaw model.\u001b[0m\u001b[0;34m\u001b[0m\u001b[0;34m\u001b[0m\u001b[0m\n\u001b[0;32m----> 2\u001b[0;31m model = LiawModel(\n\u001b[0m\u001b[1;32m      3\u001b[0m     \u001b[0minitializer\u001b[0m\u001b[0;34m=\u001b[0m\u001b[0minitializer\u001b[0m\u001b[0;34m,\u001b[0m\u001b[0;34m\u001b[0m\u001b[0;34m\u001b[0m\u001b[0m\n\u001b[1;32m      4\u001b[0m     \u001b[0mparams\u001b[0m\u001b[0;34m=\u001b[0m\u001b[0mparams\u001b[0m\u001b[0;34m,\u001b[0m\u001b[0;34m\u001b[0m\u001b[0;34m\u001b[0m\u001b[0m\n\u001b[1;32m      5\u001b[0m     \u001b[0mdx\u001b[0m\u001b[0;34m=\u001b[0m\u001b[0mdx\u001b[0m\u001b[0;34m,\u001b[0m\u001b[0;34m\u001b[0m\u001b[0;34m\u001b[0m\u001b[0m\n",
            "\u001b[0;32m/content/lpf_upper/lpf/models/liawmodel.py\u001b[0m in \u001b[0;36m__init__\u001b[0;34m(self, *args, **kwargs)\u001b[0m\n\u001b[1;32m     12\u001b[0m \u001b[0;34m\u001b[0m\u001b[0m\n\u001b[1;32m     13\u001b[0m         \u001b[0;31m# Set the device.\u001b[0m\u001b[0;34m\u001b[0m\u001b[0;34m\u001b[0m\u001b[0m\n\u001b[0;32m---> 14\u001b[0;31m         \u001b[0msuper\u001b[0m\u001b[0;34m(\u001b[0m\u001b[0;34m)\u001b[0m\u001b[0;34m.\u001b[0m\u001b[0m__init__\u001b[0m\u001b[0;34m(\u001b[0m\u001b[0;34m*\u001b[0m\u001b[0margs\u001b[0m\u001b[0;34m,\u001b[0m \u001b[0;34m**\u001b[0m\u001b[0mkwargs\u001b[0m\u001b[0;34m)\u001b[0m\u001b[0;34m\u001b[0m\u001b[0;34m\u001b[0m\u001b[0m\n\u001b[0m\u001b[1;32m     15\u001b[0m \u001b[0;34m\u001b[0m\u001b[0m\n\u001b[1;32m     16\u001b[0m         \u001b[0;31m# Set constant members.\u001b[0m\u001b[0;34m\u001b[0m\u001b[0;34m\u001b[0m\u001b[0m\n",
            "\u001b[0;32m/content/lpf_upper/lpf/models/twocomponentmodel.py\u001b[0m in \u001b[0;36m__init__\u001b[0;34m(self, initializer, n_init_pts, params, width, height, dx, thr_color, color_u, color_v, device, ladybird, dtype)\u001b[0m\n\u001b[1;32m     31\u001b[0m \u001b[0;34m\u001b[0m\u001b[0m\n\u001b[1;32m     32\u001b[0m         \u001b[0;31m# Set the device.\u001b[0m\u001b[0;34m\u001b[0m\u001b[0;34m\u001b[0m\u001b[0m\n\u001b[0;32m---> 33\u001b[0;31m         \u001b[0msuper\u001b[0m\u001b[0;34m(\u001b[0m\u001b[0;34m)\u001b[0m\u001b[0;34m.\u001b[0m\u001b[0m__init__\u001b[0m\u001b[0;34m(\u001b[0m\u001b[0mdevice\u001b[0m\u001b[0;34m,\u001b[0m \u001b[0mdtype\u001b[0m\u001b[0;34m)\u001b[0m\u001b[0;34m\u001b[0m\u001b[0;34m\u001b[0m\u001b[0m\n\u001b[0m\u001b[1;32m     34\u001b[0m \u001b[0;34m\u001b[0m\u001b[0m\n\u001b[1;32m     35\u001b[0m         \u001b[0;31m# Set constant members.\u001b[0m\u001b[0;34m\u001b[0m\u001b[0;34m\u001b[0m\u001b[0m\n",
            "\u001b[0;32m/content/lpf_upper/lpf/models/rdmodel.py\u001b[0m in \u001b[0;36m__init__\u001b[0;34m(self, device, dtype)\u001b[0m\n\u001b[1;32m      7\u001b[0m \u001b[0;34m\u001b[0m\u001b[0m\n\u001b[1;32m      8\u001b[0m     \u001b[0;32mdef\u001b[0m \u001b[0m__init__\u001b[0m\u001b[0;34m(\u001b[0m\u001b[0mself\u001b[0m\u001b[0;34m,\u001b[0m \u001b[0mdevice\u001b[0m\u001b[0;34m=\u001b[0m\u001b[0;32mNone\u001b[0m\u001b[0;34m,\u001b[0m \u001b[0mdtype\u001b[0m\u001b[0;34m=\u001b[0m\u001b[0;32mNone\u001b[0m\u001b[0;34m)\u001b[0m\u001b[0;34m:\u001b[0m\u001b[0;34m\u001b[0m\u001b[0;34m\u001b[0m\u001b[0m\n\u001b[0;32m----> 9\u001b[0;31m         \u001b[0mself\u001b[0m\u001b[0;34m.\u001b[0m\u001b[0m_am\u001b[0m \u001b[0;34m=\u001b[0m \u001b[0mget_array_module\u001b[0m\u001b[0;34m(\u001b[0m\u001b[0mdevice\u001b[0m\u001b[0;34m)\u001b[0m\u001b[0;34m\u001b[0m\u001b[0;34m\u001b[0m\u001b[0m\n\u001b[0m\u001b[1;32m     10\u001b[0m \u001b[0;34m\u001b[0m\u001b[0m\n\u001b[1;32m     11\u001b[0m         \u001b[0;32mif\u001b[0m \u001b[0;32mnot\u001b[0m \u001b[0mdtype\u001b[0m\u001b[0;34m:\u001b[0m\u001b[0;34m\u001b[0m\u001b[0;34m\u001b[0m\u001b[0m\n",
            "\u001b[0;32m/content/lpf_upper/lpf/array/module.py\u001b[0m in \u001b[0;36mget_array_module\u001b[0;34m(device)\u001b[0m\n\u001b[1;32m     93\u001b[0m \u001b[0;34m\u001b[0m\u001b[0m\n\u001b[1;32m     94\u001b[0m \u001b[0;32mdef\u001b[0m \u001b[0mget_array_module\u001b[0m\u001b[0;34m(\u001b[0m\u001b[0mdevice\u001b[0m\u001b[0;34m)\u001b[0m\u001b[0;34m:\u001b[0m\u001b[0;34m\u001b[0m\u001b[0;34m\u001b[0m\u001b[0m\n\u001b[0;32m---> 95\u001b[0;31m     \u001b[0m_backend\u001b[0m\u001b[0;34m,\u001b[0m \u001b[0m_device\u001b[0m\u001b[0;34m,\u001b[0m \u001b[0m_device_id\u001b[0m \u001b[0;34m=\u001b[0m \u001b[0mparse_device\u001b[0m\u001b[0;34m(\u001b[0m\u001b[0mdevice\u001b[0m\u001b[0;34m)\u001b[0m\u001b[0;34m\u001b[0m\u001b[0;34m\u001b[0m\u001b[0m\n\u001b[0m\u001b[1;32m     96\u001b[0m \u001b[0;34m\u001b[0m\u001b[0m\n\u001b[1;32m     97\u001b[0m     \u001b[0;32mif\u001b[0m \u001b[0m_backend\u001b[0m \u001b[0;34m==\u001b[0m \u001b[0;34m\"cupy\"\u001b[0m \u001b[0;32mand\u001b[0m \u001b[0m_device\u001b[0m \u001b[0;32min\u001b[0m \u001b[0;34m[\u001b[0m\u001b[0;34m\"gpu\"\u001b[0m\u001b[0;34m,\u001b[0m \u001b[0;34m\"cuda\"\u001b[0m\u001b[0;34m]\u001b[0m\u001b[0;34m:\u001b[0m\u001b[0;34m\u001b[0m\u001b[0;34m\u001b[0m\u001b[0m\n",
            "\u001b[0;32m/content/lpf_upper/lpf/array/module.py\u001b[0m in \u001b[0;36mparse_device\u001b[0;34m(device)\u001b[0m\n\u001b[1;32m     78\u001b[0m             \u001b[0m_device_id\u001b[0m \u001b[0;34m=\u001b[0m \u001b[0;36m0\u001b[0m\u001b[0;34m\u001b[0m\u001b[0;34m\u001b[0m\u001b[0m\n\u001b[1;32m     79\u001b[0m         \u001b[0;32melse\u001b[0m\u001b[0;34m:\u001b[0m\u001b[0;34m\u001b[0m\u001b[0;34m\u001b[0m\u001b[0m\n\u001b[0;32m---> 80\u001b[0;31m             \u001b[0;32mraise\u001b[0m \u001b[0mValueError\u001b[0m\u001b[0;34m(\u001b[0m\u001b[0;34m\"Illegal device:\"\u001b[0m\u001b[0;34m,\u001b[0m \u001b[0mdevice\u001b[0m\u001b[0;34m)\u001b[0m\u001b[0;34m\u001b[0m\u001b[0;34m\u001b[0m\u001b[0m\n\u001b[0m\u001b[1;32m     81\u001b[0m \u001b[0;34m\u001b[0m\u001b[0m\n\u001b[1;32m     82\u001b[0m     \u001b[0;32mif\u001b[0m \u001b[0m_device\u001b[0m \u001b[0;32mnot\u001b[0m \u001b[0;32min\u001b[0m \u001b[0;34m[\u001b[0m\u001b[0;34m\"cpu\"\u001b[0m\u001b[0;34m,\u001b[0m \u001b[0;34m\"gpu\"\u001b[0m\u001b[0;34m,\u001b[0m \u001b[0;34m\"tpu\"\u001b[0m\u001b[0;34m,\u001b[0m \u001b[0;34m\"cuda\"\u001b[0m\u001b[0;34m]\u001b[0m\u001b[0;34m:\u001b[0m\u001b[0;34m\u001b[0m\u001b[0;34m\u001b[0m\u001b[0m\n",
            "\u001b[0;31mValueError\u001b[0m: ('Illegal device:', 'gpu')"
          ]
        }
      ],
      "source": [
        "# Create the Liaw model.\n",
        "model = LiawModel(\n",
        "    initializer=initializer,\n",
        "    params=params,\n",
        "    dx=dx,\n",
        "    width=width,\n",
        "    height=height,\n",
        "    device=device\n",
        ")"
      ]
    },
    {
      "cell_type": "code",
      "execution_count": null,
      "metadata": {
        "tags": [],
        "colab": {
          "base_uri": "https://localhost:8080/"
        },
        "outputId": "fb8cc0cb-cc7f-4dd6-8f13-4280b9d83067",
        "id": "AMjs5gxTCofq"
      },
      "outputs": [
        {
          "output_type": "stream",
          "name": "stdout",
          "text": [
            "Elapsed time: 3.450543 sec.\n"
          ]
        }
      ],
      "source": [
        "# Create the Euler solver.\n",
        "solver = EulerSolver()\n",
        "\n",
        "t_beg = time.time()\n",
        "\n",
        "solver.solve(\n",
        "    model=model,\n",
        "    dt=dt,\n",
        "    n_iters=n_iters,\n",
        "    dpath_model=dpath_output,\n",
        "    dpath_ladybird=dpath_output,\n",
        "    dpath_pattern=dpath_output,\n",
        "    verbose=0\n",
        ")\n",
        "\n",
        "t_end = time.time()\n",
        "\n",
        "print(\"Elapsed time: %f sec.\" % (t_end - t_beg))"
      ]
    },
    {
      "cell_type": "code",
      "execution_count": null,
      "metadata": {
        "id": "cc0b63dc-1b1f-4ca1-bfca-624744e31035"
      },
      "outputs": [],
      "source": [
        "arr_color = model.colorize(thr_color=0.5)\n",
        "img_ladybird, img_pattern = model.create_image(0, arr_color)"
      ]
    },
    {
      "cell_type": "code",
      "execution_count": null,
      "metadata": {
        "colab": {
          "base_uri": "https://localhost:8080/",
          "height": 143
        },
        "id": "9807903d-25e1-415f-a916-ccc003b567ff",
        "outputId": "117668c7-81b5-4f27-c6dd-3945ec3557ef"
      },
      "outputs": [
        {
          "output_type": "execute_result",
          "data": {
            "text/plain": [
              "<PIL.Image.Image image mode=RGBA size=104x126>"
            ],
            "image/png": "[encoded data removed]"
          },
          "metadata": {},
          "execution_count": 37
        }
      ],
      "source": [
        "img_ladybird"
      ]
    },
    {
      "cell_type": "code",
      "execution_count": null,
      "metadata": {
        "colab": {
          "base_uri": "https://localhost:8080/",
          "height": 145
        },
        "id": "c3f7ed38-3c17-4ea2-a2d2-59b586307164",
        "outputId": "7b533284-03be-4606-d742-2188915fcd67"
      },
      "outputs": [
        {
          "output_type": "execute_result",
          "data": {
            "text/plain": [
              "<PIL.Image.Image image mode=RGB size=128x128>"
            ],
            "image/png": "[encoded data removed]"
          },
          "metadata": {},
          "execution_count": 38
        }
      ],
      "source": [
        "img_pattern"
      ]
    },
    {
      "cell_type": "code",
      "execution_count": null,
      "metadata": {
        "id": "8e308e02-8c80-4425-b662-2543070058bf"
      },
      "outputs": [],
      "source": [
        "model.save_image(index=0,\n",
        "                 fpath_ladybird=pjoin(dpath_output, \"ladybird.png\"),\n",
        "                 fpath_pattern=pjoin(dpath_output, \"pattern.png\"),\n",
        "                 arr_color=arr_color)"
      ]
    },
    {
      "cell_type": "code",
      "execution_count": null,
      "metadata": {
        "id": "c4184369-090f-4439-af3c-722dd4dc6744",
        "outputId": "233c5e17-560b-4f1e-e233-a0c5c023297c"
      },
      "outputs": [
        {
          "name": "stdout",
          "output_type": "stream",
          "text": [
            "ladybird.png\n",
            "model_1\n",
            "models\n",
            "pattern.png\n"
          ]
        },
        {
          "name": "stderr",
          "output_type": "stream",
          "text": [
            "sys:1: ResourceWarning: unclosed socket <zmq.Socket(zmq.PUSH) at 0x280f726afa0>\n",
            "ResourceWarning: Enable tracemalloc to get the object allocation traceback\n",
            "C:\\Anaconda3\\envs\\lpf\\lib\\site-packages\\IPython\\utils\\_process_win32.py:145: ResourceWarning: unclosed file <_io.BufferedWriter name=4>\n",
            "  return process_handler(cmd, _system_body)\n",
            "ResourceWarning: Enable tracemalloc to get the object allocation traceback\n",
            "C:\\Anaconda3\\envs\\lpf\\lib\\site-packages\\IPython\\utils\\_process_win32.py:145: ResourceWarning: unclosed file <_io.BufferedReader name=5>\n",
            "  return process_handler(cmd, _system_body)\n",
            "ResourceWarning: Enable tracemalloc to get the object allocation traceback\n",
            "C:\\Anaconda3\\envs\\lpf\\lib\\site-packages\\IPython\\utils\\_process_win32.py:145: ResourceWarning: unclosed file <_io.BufferedReader name=6>\n",
            "  return process_handler(cmd, _system_body)\n",
            "ResourceWarning: Enable tracemalloc to get the object allocation traceback\n"
          ]
        }
      ],
      "source": [
        "# !ls {dpath_output}"
      ]
    }
  ]
}