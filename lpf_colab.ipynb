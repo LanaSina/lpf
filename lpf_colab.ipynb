{
  "nbformat": 4,
  "nbformat_minor": 0,
  "metadata": {
    "colab": {
      "provenance": [],
      "authorship_tag": "ABX9TyPLqDlUGlNZVn/5e1MSqOFs",
      "include_colab_link": true
    },
    "kernelspec": {
      "name": "python3",
      "display_name": "Python 3"
    },
    "language_info": {
      "name": "python"
    }
  },
  "cells": [
    {
      "cell_type": "markdown",
      "metadata": {
        "id": "view-in-github",
        "colab_type": "text"
      },
      "source": [
        "<a href=\"https://colab.research.google.com/github/LanaSina/lpf/blob/main/lpf_colab.ipynb\" target=\"_parent\"><img src=\"https://colab.research.google.com/assets/colab-badge.svg\" alt=\"Open In Colab\"/></a>"
      ]
    },
    {
      "cell_type": "markdown",
      "source": [
        "# Running LPF on colab\n",
        "\n",
        "Original code: https://github.com/cxinsys/lpf\n",
        "\n",
        "Paper: https://academic.oup.com/bioinformatics/article/39/7/btad430/7221539"
      ],
      "metadata": {
        "id": "eg0_fZt1ipaE"
      }
    },
    {
      "cell_type": "markdown",
      "source": [
        "## Setup\n",
        "\n",
        "Pull code"
      ],
      "metadata": {
        "id": "yGOX5qnejDsO"
      }
    },
    {
      "cell_type": "code",
      "execution_count": 1,
      "metadata": {
        "colab": {
          "base_uri": "https://localhost:8080/"
        },
        "id": "Q0UTEdKQh5Xf",
        "outputId": "225edb04-cf1f-48f4-d88c-0968af142d29"
      },
      "outputs": [
        {
          "output_type": "stream",
          "name": "stdout",
          "text": [
            "Cloning into 'lpf'...\n",
            "remote: Enumerating objects: 2171, done.\u001b[K\n",
            "remote: Counting objects: 100% (29/29), done.\u001b[K\n",
            "remote: Compressing objects: 100% (22/22), done.\u001b[K\n",
            "remote: Total 2171 (delta 14), reused 14 (delta 7), pack-reused 2142\u001b[K\n",
            "Receiving objects: 100% (2171/2171), 35.92 MiB | 45.41 MiB/s, done.\n",
            "Resolving deltas: 100% (1427/1427), done.\n"
          ]
        }
      ],
      "source": [
        "!git clone https://github.com/LanaSina/lpf.git"
      ]
    },
    {
      "cell_type": "markdown",
      "source": [
        "Install LPF"
      ],
      "metadata": {
        "id": "9Ych0NOjjRGH"
      }
    },
    {
      "cell_type": "code",
      "source": [
        "!pip install -r lpf/requirements.txt"
      ],
      "metadata": {
        "colab": {
          "base_uri": "https://localhost:8080/"
        },
        "id": "uNVd0yxEjSxp",
        "outputId": "3a386978-2d91-4c07-d859-ec511ae8a42d"
      },
      "execution_count": 2,
      "outputs": [
        {
          "output_type": "stream",
          "name": "stdout",
          "text": [
            "Requirement already satisfied: numpy in /usr/local/lib/python3.10/dist-packages (from -r lpf/requirements.txt (line 1)) (1.23.5)\n",
            "Requirement already satisfied: scipy in /usr/local/lib/python3.10/dist-packages (from -r lpf/requirements.txt (line 2)) (1.10.1)\n",
            "Requirement already satisfied: pillow in /usr/local/lib/python3.10/dist-packages (from -r lpf/requirements.txt (line 3)) (9.4.0)\n",
            "Requirement already satisfied: tqdm in /usr/local/lib/python3.10/dist-packages (from -r lpf/requirements.txt (line 4)) (4.66.1)\n",
            "Requirement already satisfied: pyyaml in /usr/local/lib/python3.10/dist-packages (from -r lpf/requirements.txt (line 5)) (6.0.1)\n",
            "Collecting xxhash (from -r lpf/requirements.txt (line 6))\n",
            "  Downloading xxhash-3.3.0-cp310-cp310-manylinux_2_17_x86_64.manylinux2014_x86_64.whl (194 kB)\n",
            "\u001b[2K     \u001b[90m━━━━━━━━━━━━━━━━━━━━━━━━━━━━━━━━━━━━━━━\u001b[0m \u001b[32m194.1/194.1 kB\u001b[0m \u001b[31m4.2 MB/s\u001b[0m eta \u001b[36m0:00:00\u001b[0m\n",
            "\u001b[?25hInstalling collected packages: xxhash\n",
            "Successfully installed xxhash-3.3.0\n"
          ]
        }
      ]
    },
    {
      "cell_type": "markdown",
      "source": [
        "Install PyGMO"
      ],
      "metadata": {
        "id": "x21qZjErjZ1W"
      }
    },
    {
      "cell_type": "code",
      "source": [
        "!pip install pygmo -c conda-forge"
      ],
      "metadata": {
        "colab": {
          "base_uri": "https://localhost:8080/"
        },
        "id": "NF58MAFAjhBl",
        "outputId": "18abdbc5-9c34-49cc-e385-1782a169416b"
      },
      "execution_count": 3,
      "outputs": [
        {
          "output_type": "stream",
          "name": "stdout",
          "text": [
            "\u001b[31mERROR: Could not open requirements file: [Errno 2] No such file or directory: 'conda-forge'\u001b[0m\u001b[31m\n",
            "\u001b[0m"
          ]
        }
      ]
    },
    {
      "cell_type": "markdown",
      "source": [
        "From: tutorials/tutorial02_visualize_single_morph.ipynb"
      ],
      "metadata": {
        "id": "rBKPFpGMkiQ_"
      }
    },
    {
      "cell_type": "code",
      "source": [],
      "metadata": {
        "id": "IUIbJ6HRkhdV"
      },
      "execution_count": null,
      "outputs": []
    }
  ]
}